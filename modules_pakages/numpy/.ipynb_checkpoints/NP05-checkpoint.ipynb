{
 "cells": [
  {
   "cell_type": "markdown",
   "metadata": {},
   "source": [
    "# NumPy 기본 연산\n",
    "\n",
    "## 배열의 산술 연산\n",
    "배열에 대한 산술 연산자는 요소 단위로 적용됩니다. 새로운 배일이 생성되어서 결과가 채워집니다.\n",
    "\n",
    "### 예제"
   ]
  },
  {
   "cell_type": "code",
   "execution_count": 1,
   "metadata": {},
   "outputs": [
    {
     "name": "stdout",
     "output_type": "stream",
     "text": [
      "[20 29 38 47]\n",
      "[0 1 4 9]\n",
      "[ 9.12945251 -9.88031624  7.4511316  -2.62374854]\n",
      "[ True  True False False]\n"
     ]
    }
   ],
   "source": [
    "import numpy as np\n",
    "\n",
    "a = np.array([20, 30, 40, 50])\n",
    "b = np.arange(4)\n",
    "\n",
    "c = a-b\n",
    "print(c)\n",
    "\n",
    "print(b**2)\n",
    "print(10*np.sin(a))\n",
    "print(a<35)"
   ]
  },
  {
   "cell_type": "markdown",
   "metadata": {},
   "source": [
    "```a-b```와 같이 배열의 차는 각 요소의 차를 갖는 배열을 만듭니다.\n",
    "\n",
    "```b**2```과 같은 지수 연산이나 ```np.sin(a)```도 마찬가지로 요소 단위로 적용됩니다.\n",
    "\n",
    "```a<35```와 같은 비교 연산자의 경우에는 ```True```, ```False```의 진리값을 갖는 배열이 출력됩니다."
   ]
  },
  {
   "cell_type": "markdown",
   "metadata": {},
   "source": [
    "## 배열의 곱 연산, 행렬곱 연산\n",
    "다른 많은 행렬 언어와 다르게, NumPy 배열에서 곱(\\*)연산은 요소 단위로 이루어집니다.\n",
    "\n",
    "일반적인 행렬곱(matrix product)은 (Python > 3.5 에서) @연산자를 이용해서 하거나, ```dot()```함수를 이용해서 수행할 수 있습니다.\n",
    "\n",
    "### 예제"
   ]
  },
  {
   "cell_type": "code",
   "execution_count": 2,
   "metadata": {},
   "outputs": [
    {
     "name": "stdout",
     "output_type": "stream",
     "text": [
      "[[2 0]\n",
      " [0 4]]\n",
      "[[5 4]\n",
      " [3 4]]\n",
      "[[5 4]\n",
      " [3 4]]\n"
     ]
    }
   ],
   "source": [
    "import numpy as np\n",
    "\n",
    "A = np.array([[1,1], [0,1]])\n",
    "B = np.array([[2,0], [3,4]])\n",
    "\n",
    "print(A * B)                    # elementwise priduct\n",
    "print(A @ B)                    # matrix product\n",
    "print(A.dot(B))                 # another matrix product"
   ]
  },
  {
   "cell_type": "markdown",
   "metadata": {},
   "source": [
    "## 배열의 할당 연산\n",
    "```+=```, ```/*=```와 같은 연산들은 새로운 배열을 만들지 않고 이전의 배열에 대체하도록 동작합니다.\n",
    "\n",
    "### 예제"
   ]
  },
  {
   "cell_type": "code",
   "execution_count": 3,
   "metadata": {},
   "outputs": [
    {
     "name": "stdout",
     "output_type": "stream",
     "text": [
      "[[3 3 3]\n",
      " [3 3 3]]\n",
      "[[ 3.06393885  3.82631302  3.33720999]\n",
      " [ 3.97572308  3.0174121   3.03089295]]\n"
     ]
    },
    {
     "ename": "TypeError",
     "evalue": "Cannot cast ufunc add output from dtype('float64') to dtype('int32') with casting rule 'same_kind'",
     "output_type": "error",
     "traceback": [
      "\u001b[1;31m---------------------------------------------------------------------------\u001b[0m",
      "\u001b[1;31mTypeError\u001b[0m                                 Traceback (most recent call last)",
      "\u001b[1;32m<ipython-input-3-9a934acd2618>\u001b[0m in \u001b[0;36m<module>\u001b[1;34m()\u001b[0m\n\u001b[0;32m     10\u001b[0m \u001b[0mprint\u001b[0m\u001b[1;33m(\u001b[0m\u001b[0mb\u001b[0m\u001b[1;33m)\u001b[0m\u001b[1;33m\u001b[0m\u001b[0m\n\u001b[0;32m     11\u001b[0m \u001b[1;33m\u001b[0m\u001b[0m\n\u001b[1;32m---> 12\u001b[1;33m \u001b[0ma\u001b[0m \u001b[1;33m+=\u001b[0m \u001b[0mb\u001b[0m                    \u001b[1;31m# b is not automatically converted to integer type\u001b[0m\u001b[1;33m\u001b[0m\u001b[0m\n\u001b[0m",
      "\u001b[1;31mTypeError\u001b[0m: Cannot cast ufunc add output from dtype('float64') to dtype('int32') with casting rule 'same_kind'"
     ]
    }
   ],
   "source": [
    "import numpy as np\n",
    "\n",
    "a = np.ones((2,3), dtype=int)\n",
    "b = np.random.random((2,3))\n",
    "\n",
    "a *= 3\n",
    "print(a)\n",
    "\n",
    "b += a\n",
    "print(b)\n",
    "\n",
    "a += b                    # b is not automatically converted to integer type"
   ]
  },
  {
   "cell_type": "markdown",
   "metadata": {},
   "source": [
    "```a += b```연산에서 배열 b가 자동으로 정수 타입의 배열로 변환될 수 없어서 에러가 발생합니다."
   ]
  },
  {
   "cell_type": "markdown",
   "metadata": {},
   "source": [
    "## Upcasting\n",
    "다양한 타입을 갖는 배열들을 연산할 때, 결과로 만들어지는 배열의 타입은 더 일반적인 또는 더 정밀한 타입으로 결정됩니다.(upcasting)\n",
    "\n",
    "### 예제"
   ]
  },
  {
   "cell_type": "code",
   "execution_count": 4,
   "metadata": {},
   "outputs": [
    {
     "name": "stdout",
     "output_type": "stream",
     "text": [
      "float64\n",
      "[ 1.          2.57079633  4.14159265]\n",
      "float64\n",
      "[ 0.54030231+0.84147098j -0.84147098+0.54030231j -0.54030231-0.84147098j]\n",
      "complex128\n"
     ]
    }
   ],
   "source": [
    "import numpy as np\n",
    "from numpy import pi\n",
    "\n",
    "a = np.ones(3, dtype=np.int32)\n",
    "b = np.linspace(0, pi, 3)\n",
    "print(b.dtype.name)\n",
    "\n",
    "c = a+b\n",
    "print(c)\n",
    "print(c.dtype.name)\n",
    "\n",
    "d = np.exp(c*1j)\n",
    "print(d)\n",
    "print(d.dtype.name)"
   ]
  },
  {
   "cell_type": "markdown",
   "metadata": {},
   "source": [
    "## 단항 연산 - sum(),min(),max()\n",
    "(배열의 모든 요소의 합을 계산하는 등의)많은 단항 연산은 ndarray 클래스의 메서드로 구현됩니다.\n",
    "\n",
    "### 예제"
   ]
  },
  {
   "cell_type": "code",
   "execution_count": 5,
   "metadata": {},
   "outputs": [
    {
     "name": "stdout",
     "output_type": "stream",
     "text": [
      "[[ 0.74615164  0.42631627  0.94213349]\n",
      " [ 0.81117671  0.17757731  0.41720309]]\n",
      "3.52055851647\n",
      "0.17757731412\n",
      "0.94213349243\n"
     ]
    }
   ],
   "source": [
    "import numpy as np\n",
    "\n",
    "a = np.random.random((2, 3))\n",
    "print(a)\n",
    "\n",
    "print(a.sum())\n",
    "print(a.min())\n",
    "print(a.max())"
   ]
  },
  {
   "cell_type": "markdown",
   "metadata": {},
   "source": [
    "## 특정 축에 대해 연산 적용\n",
    "기본적으로 이러한 연산들은 shape에 관계없이 숫자의 리스트인 것처럼 배열에 적용됩니다.\n",
    "\n",
    "하지만 축 파라미터(axis parameter)를 적용함으로써, 배열의 특정 축에 대해 연산을 적용할 수 있습니다.\n",
    "\n",
    "### 예제"
   ]
  },
  {
   "cell_type": "code",
   "execution_count": 7,
   "metadata": {},
   "outputs": [
    {
     "name": "stdout",
     "output_type": "stream",
     "text": [
      "[[ 0  1  2  3]\n",
      " [ 4  5  6  7]\n",
      " [ 8  9 10 11]]\n",
      "[12 15 18 21]\n",
      "[0 4 8]\n",
      "[[ 0  1  3  6]\n",
      " [ 4  9 15 22]\n",
      " [ 8 17 27 38]]\n"
     ]
    }
   ],
   "source": [
    "import numpy as np\n",
    "\n",
    "b = np.arange(12).reshape(3,4)\n",
    "print(b)\n",
    "\n",
    "print(b.sum(axis=0))                            # sum of each column\n",
    "print(b.min(axis=1))                            # min of each row\n",
    "print(b.cumsum(axis=1))                         # cumulative sum along each row"
   ]
  }
 ],
 "metadata": {
  "kernelspec": {
   "display_name": "Python 3",
   "language": "python",
   "name": "python3"
  },
  "language_info": {
   "codemirror_mode": {
    "name": "ipython",
    "version": 3
   },
   "file_extension": ".py",
   "mimetype": "text/x-python",
   "name": "python",
   "nbconvert_exporter": "python",
   "pygments_lexer": "ipython3",
   "version": "3.6.3"
  }
 },
 "nbformat": 4,
 "nbformat_minor": 2
}
