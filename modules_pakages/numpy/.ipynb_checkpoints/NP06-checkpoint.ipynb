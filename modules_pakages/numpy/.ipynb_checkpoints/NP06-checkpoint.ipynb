{
 "cells": [
  {
   "cell_type": "markdown",
   "metadata": {},
   "source": [
    "# NumPy 범용 함수(ufunc)\n",
    "\n",
    "NumPy는 ```sim```, ```cos```, ```exp```과 같은 친숙한 수학 함수들을 제공합니다. NumPy에서 이 함수들은 범용함수(universal function, ufunc)라고 합니다.\n",
    "\n",
    "NumPy 안에서 이 함수들은 배열의 요소별로 동작하며, 배열을 출력합니다.\n",
    "\n",
    "## 예제"
   ]
  },
  {
   "cell_type": "code",
   "execution_count": 1,
   "metadata": {},
   "outputs": [
    {
     "name": "stdout",
     "output_type": "stream",
     "text": [
      "[0 1 2]\n",
      "[ 1.          2.71828183  7.3890561 ]\n",
      "[ 0.          1.          1.41421356]\n",
      "[ 2.  0.  6.]\n"
     ]
    }
   ],
   "source": [
    "import numpy as np\n",
    "\n",
    "B = np.arange(3)\n",
    "print(B)\n",
    "print(np.exp(B))\n",
    "print(np.sqrt(B))\n",
    "\n",
    "C = np.array([2., -1., 4.])\n",
    "print(np.add(B, C))"
   ]
  },
  {
   "cell_type": "markdown",
   "metadata": {},
   "source": [
    "NumPy에는 60개 이상의 범용 함수가 정의되어 있습니다.\n",
    "\n",
    "```add()```, ```subtract()```, ```nultiply()```와 같은 수학 함수, ```sin()```, ```cos()``` 등과 같은 삼각 함수 등이 있습니다.\n",
    "\n",
    "모든 범용 함수 목록은 [NumPy 범용 함수 공식 문서](https://docs.scipy.org/doc/numpy-1.15.1/reference/ufuncs.html)에서 확인할 수 있습니다."
   ]
  },
  {
   "cell_type": "markdown",
   "metadata": {},
   "source": [
    "# NumPy 인덱싱, 슬라이싱, 이터레이팅\n",
    "파이썬 리스트와 다른 시퀀스들과 비슷하게, NumPy의 1차원 배열을 인덱싱, 슬라이싱, 이터레이팅(반복)할 수 있습니다.\n",
    "\n",
    "## 인덱싱(Indexing)\n",
    "인덱스를 이용해서 배열의 요소에 접근합니다.\n",
    "\n",
    "### 예제"
   ]
  },
  {
   "cell_type": "code",
   "execution_count": 2,
   "metadata": {},
   "outputs": [
    {
     "name": "stdout",
     "output_type": "stream",
     "text": [
      "4\n",
      "81\n"
     ]
    }
   ],
   "source": [
    "import numpy as np\n",
    "\n",
    "a = np.arange(10)**2\n",
    "\n",
    "# Indexing\n",
    "print(a[2])\n",
    "print(a[-1])"
   ]
  },
  {
   "cell_type": "markdown",
   "metadata": {},
   "source": [
    "## 슬라이싱(Slicing)\n",
    "파이썬에서와 동일하게 배열을 슬라이스할 수 있습니다.\n",
    "\n",
    "### 예제"
   ]
  },
  {
   "cell_type": "code",
   "execution_count": 3,
   "metadata": {},
   "outputs": [
    {
     "name": "stdout",
     "output_type": "stream",
     "text": [
      "[ 4  9 16]\n",
      "[0 4]\n",
      "[16 36 64]\n",
      "[81 64 49 36 25 16  9  4  1  0]\n"
     ]
    }
   ],
   "source": [
    "import numpy as np\n",
    "\n",
    "a = np.arange(10)**2\n",
    "\n",
    "# Slicing\n",
    "print(a[2:5])\n",
    "print(a[:4:2])    # equal to a[0:4:2]\n",
    "print(a[4::2])    # equal to a[4:len(a):3]\n",
    "\n",
    "print(a[::-1])    # reversed array"
   ]
  },
  {
   "cell_type": "markdown",
   "metadata": {},
   "source": [
    "## 이터레이팅(Iterating)\n",
    "파이썬의 다른 반복 가능한(iterable) 시퀀스와 마찬가지로 NumPy 배열도 반복(iterate)할 수 있습니다.\n",
    "\n",
    "### 예제"
   ]
  },
  {
   "cell_type": "code",
   "execution_count": 5,
   "metadata": {},
   "outputs": [
    {
     "name": "stdout",
     "output_type": "stream",
     "text": [
      "0\n",
      "2\n",
      "8\n",
      "18\n",
      "32\n",
      "50\n",
      "72\n",
      "98\n",
      "128\n",
      "162\n"
     ]
    }
   ],
   "source": [
    "import numpy as np\n",
    "\n",
    "a = np.arange(10)**2\n",
    "\n",
    "# Iterating\n",
    "for i in a:\n",
    "    print(i * 2)"
   ]
  },
  {
   "cell_type": "markdown",
   "metadata": {},
   "source": [
    "다차원 배열은 축 당 하나의 인덱스를 가집니다. 이 인덱스들은 콤마(comma)로 구분된 튜플의 형태로 주어집니다.\n",
    "\n",
    "### 예제"
   ]
  },
  {
   "cell_type": "code",
   "execution_count": 6,
   "metadata": {},
   "outputs": [
    {
     "name": "stdout",
     "output_type": "stream",
     "text": [
      "[[0 1 2 3]\n",
      " [1 2 3 4]\n",
      " [2 3 4 5]\n",
      " [3 4 5 6]\n",
      " [4 5 6 7]]\n",
      "5\n",
      "[1 2 3 4 5]\n",
      "[1 2 3 4 5]\n",
      "[[1 2 3 4]\n",
      " [2 3 4 5]]\n"
     ]
    }
   ],
   "source": [
    "import numpy as np\n",
    "\n",
    "def f(x, y):\n",
    "    return x + y\n",
    "\n",
    "b = np.fromfunction(f, (5, 4), dtype=int)\n",
    "\n",
    "print(b)\n",
    "print(b[2, 3])        # element of third row, fourth column\n",
    "\n",
    "print(b[0:5, 1])      # second column\n",
    "print(b[:, 1])        # second column\n",
    "print(b[1:3, :])      # second-third row"
   ]
  },
  {
   "cell_type": "markdown",
   "metadata": {},
   "source": [
    "축의 개수에 비해 적은 수의 인덱스가 입력되면 부족한 인덱스는 ':'로 인식됩니다.\n",
    "\n",
    "### 예제"
   ]
  },
  {
   "cell_type": "code",
   "execution_count": 7,
   "metadata": {},
   "outputs": [
    {
     "name": "stdout",
     "output_type": "stream",
     "text": [
      "[4 5 6 7]\n"
     ]
    }
   ],
   "source": [
    "import numpy as np\n",
    "\n",
    "def f(x, y):\n",
    "    return x + y\n",
    "\n",
    "b = np.fromfunction(f, (5,4), dtype=int)\n",
    "\n",
    "print(b[-1])"
   ]
  },
  {
   "cell_type": "markdown",
   "metadata": {},
   "source": [
    "인덱스 튜플을 완성하기 위해 점들(...)을 사용할 수 있습니다.  \n",
    "\n",
    "예를 들어, 배열 x가 5개의 축을 갖는다고 할 때,  \n",
    "- x[1,2, ...]는 x[1,2,:,:,:]와 같습니다.  \n",
    "- x[...,3]은 x[:,:,:,:,3]과 같습니다.  \n",
    "- x[4, ..., 5, :]는 x[4, :, :, 5, :]와 같습니다."
   ]
  },
  {
   "cell_type": "markdown",
   "metadata": {},
   "source": [
    "다차원 배열의 이터레이팅은 첫번째 축을 기준으로 이루어집니다.\n",
    "\n",
    "### 예제"
   ]
  },
  {
   "cell_type": "code",
   "execution_count": 9,
   "metadata": {},
   "outputs": [
    {
     "name": "stdout",
     "output_type": "stream",
     "text": [
      "[0 1 2 3]\n",
      "[1 2 3 4]\n",
      "[2 3 4 5]\n",
      "[3 4 5 6]\n",
      "[4 5 6 7]\n"
     ]
    }
   ],
   "source": [
    "import numpy as np\n",
    "\n",
    "def f(x, y):\n",
    "    return x + y\n",
    "\n",
    "b = np.fromfunction(f, (5, 4), dtype=int)\n",
    "\n",
    "for row in b:\n",
    "    print(row)"
   ]
  },
  {
   "cell_type": "markdown",
   "metadata": {},
   "source": [
    "하지만 배열의 각 요소에 대해 연산을 수행하고 싶다면, ```flat``` 속성을 사용할 수 있습니다.\n",
    "\n",
    "### 예제"
   ]
  },
  {
   "cell_type": "code",
   "execution_count": 11,
   "metadata": {},
   "outputs": [
    {
     "name": "stdout",
     "output_type": "stream",
     "text": [
      "[[0 1 2 3]\n",
      " [1 2 3 4]\n",
      " [2 3 4 5]\n",
      " [3 4 5 6]\n",
      " [4 5 6 7]]\n",
      "0\n",
      "1\n",
      "2\n",
      "3\n",
      "1\n",
      "2\n",
      "3\n",
      "4\n",
      "2\n",
      "3\n",
      "4\n",
      "5\n",
      "3\n",
      "4\n",
      "5\n",
      "6\n",
      "4\n",
      "5\n",
      "6\n",
      "7\n"
     ]
    }
   ],
   "source": [
    "import numpy as np\n",
    "\n",
    "def f(x, y):\n",
    "    return x + y\n",
    "\n",
    "b = np.fromfunction(f, (5,4), dtype=int)\n",
    "\n",
    "print(b)\n",
    "\n",
    "for element in b.flat:\n",
    "    print(element)"
   ]
  }
 ],
 "metadata": {
  "kernelspec": {
   "display_name": "Python 3",
   "language": "python",
   "name": "python3"
  },
  "language_info": {
   "codemirror_mode": {
    "name": "ipython",
    "version": 3
   },
   "file_extension": ".py",
   "mimetype": "text/x-python",
   "name": "python",
   "nbconvert_exporter": "python",
   "pygments_lexer": "ipython3",
   "version": "3.6.3"
  }
 },
 "nbformat": 4,
 "nbformat_minor": 2
}
