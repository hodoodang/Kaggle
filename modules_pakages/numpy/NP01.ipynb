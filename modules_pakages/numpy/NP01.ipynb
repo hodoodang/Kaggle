{
 "cells": [
  {
   "cell_type": "markdown",
   "metadata": {},
   "source": [
    "# NumPy - 수학/과학 연산을 위한 파이썬 패키지\n",
    "\n",
    "Numpy는 Numerical + Python의 합성어로 수학, 과학 연산을 위한 파이썬의 필수적이고 기본적인 패키지입니다.\n",
    "\n",
    "Numpy는 보톤 '넘파이'라고 읽습니다.\n",
    "\n",
    "\n",
    "\n",
    "\n",
    "\n",
    "공식 홈페이지의 소개에 의하면 NumPy는 아래의 다양한 것들을 포함합니다.\n",
    "* 강력한 N-차원 배열 객체  \n",
    "* 수준 높은 함수들  \n",
    "* C/C++과 Fortran 코드 통합을 위한 도구들\n",
    "* 유용한 선형대수, 퓨리에 변환, 랜덤 넘버 관련 기능들\n",
    "* 그 외 많은 기능들"
   ]
  },
  {
   "cell_type": "markdown",
   "metadata": {},
   "source": [
    "## 설치\n",
    "NumPy는 아나콘다에 기본적으로 포함되어 있지만 설치되어 있지 않다면 아래의 명령문을 통해 설치합니다.\n",
    "\n",
    "```\n",
    "pip install numpy\n",
    "```"
   ]
  },
  {
   "cell_type": "markdown",
   "metadata": {},
   "source": [
    "## 기본 사용\n",
    "\n",
    "NumPy의 주요한 객체는 다차원의 동종 배열(homogeneous multidimensional array)입니다. 배열의 요소(보통 숫자)는 모두 동일한 타입을 갖고 음이 아닌 정수로 인덱싱됩니다. NumPy에서 차원(dimension)은 'axis'라고 합니다.\n",
    "\n",
    "NumPy 배열을 하나 만들고 출력해 보겠습니다."
   ]
  },
  {
   "cell_type": "markdown",
   "metadata": {},
   "source": [
    "### 예제"
   ]
  },
  {
   "cell_type": "code",
   "execution_count": 1,
   "metadata": {},
   "outputs": [
    {
     "name": "stdout",
     "output_type": "stream",
     "text": [
      "[1 2 3]\n"
     ]
    }
   ],
   "source": [
    "import numpy as np\n",
    "\n",
    "arr = np.array([1,2,3])\n",
    "print(arr)"
   ]
  },
  {
   "cell_type": "markdown",
   "metadata": {},
   "source": [
    "1차원의 배열이 하나 만들어지고 출력됩니다.\n",
    "\n",
    "이제 NumPy의 다양한 기능에 대해 살펴 보겠습니다."
   ]
  }
 ],
 "metadata": {
  "kernelspec": {
   "display_name": "Python 3",
   "language": "python",
   "name": "python3"
  },
  "language_info": {
   "codemirror_mode": {
    "name": "ipython",
    "version": 3
   },
   "file_extension": ".py",
   "mimetype": "text/x-python",
   "name": "python",
   "nbconvert_exporter": "python",
   "pygments_lexer": "ipython3",
   "version": "3.6.3"
  }
 },
 "nbformat": 4,
 "nbformat_minor": 2
}
