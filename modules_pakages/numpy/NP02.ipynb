{
 "cells": [
  {
   "cell_type": "markdown",
   "metadata": {},
   "source": [
    "# NumPy 기초\n",
    "\n",
    "NumPy의 주요한 객체는 다차원의 동종 배열(homogeneous nultidimensional array)입니다. 보통은 숫자인 요소들의 집합이며, 모두 같은 타입을 갖습니다.\n",
    "\n",
    "NumPy에서 차원은 축(axis)이라고 합니다.\n",
    "\n",
    "예를 들어, 3차원 공간에서 점[1,2,1]의 좌표는 하나의 축(axis)을 갖습니다. 이 축은 3개의 요소를 가지고 길이는 3입니다.\n",
    "\n",
    "아래의 예에서, 배열은 두 개의 축을 갖는데, 첫번째 축은 길이가 2, 두번째 축은 길이가 3입니다."
   ]
  },
  {
   "cell_type": "code",
   "execution_count": null,
   "metadata": {
    "collapsed": true
   },
   "outputs": [],
   "source": [
    "[[1., 0., 0.],\n",
    " [0., 1., 2.]]"
   ]
  },
  {
   "cell_type": "markdown",
   "metadata": {},
   "source": [
    "Numpy의 배열 클래스는 ndarray라고 합니다.\n",
    "\n",
    "numpy.array는 표준 파이썬 라이브러리의 클래스인 array.array와 다릅니다. array.array는 1차원 배열만 다루고, 더 적은 기능을 제공합니다.\n",
    "\n",
    "ndarray 객체의 중요한 속성은 다음과 같습니다:\n",
    "\n",
    "__ndarray.ndim__  \n",
    "배열 축의 개수(차원)\n",
    "\n",
    "__ndarray.shape__  \n",
    "배열의 차원. 각 차원의 배열의 크기를 나타내는 정수의 튜플.  \n",
    "n개의 행, m개의 열을 갖는 행렬의 경우, shape은 (n,m). 따라서 shape 튜플의 길이는 축의 개수가 됨.\n",
    "\n",
    "__ndarray.size__  \n",
    "배열의 요소의 총 개수. shape 튜플의 요소의 곱과 같음.\n",
    "\n",
    "__ndarray.dtype__  \n",
    "배열의 요소의 타입을 나타내는 객체. 표준 파이썬 타입을 이용해서 dtype을 만들거나 지정할 수 있음.  \n",
    "이 외에도 NumPy는 numpy.int32, numpy.int16, numpy.float64와 같은 고유한 타입을 제공함.\n",
    "\n",
    "__ndarray.itemsize__  \n",
    "배열의 각 요소의 바이트 크기. 예를 들어, float64 타입의 요소를 갖는 어레이는 itemsize가 8(64/8).  \n",
    "complex32 타입을 갖는 배열의 itemsize는 4(=32/8). ndarray.dtpye.itemsize와 같음.\n",
    "\n",
    "__ndarray.data__  \n",
    "배열의 실제 요소를 갖는 버퍼. 보통, 인덱스 기능을 이용해서 배열의 요소에 접근하기 때문에 이 속성을 사용할 필요가 없을 것임."
   ]
  },
  {
   "cell_type": "markdown",
   "metadata": {},
   "source": [
    "## 예제"
   ]
  },
  {
   "cell_type": "code",
   "execution_count": 2,
   "metadata": {},
   "outputs": [
    {
     "name": "stdout",
     "output_type": "stream",
     "text": [
      "[[ 0  1  2  3  4]\n",
      " [ 5  6  7  8  9]\n",
      " [10 11 12 13 14]]\n",
      "a.shape: (3, 5)\n",
      "a.ndim: 2\n",
      "a.dtype.name: int32\n",
      "a.itemsize: 4\n",
      "a.size: 15\n",
      "type(a): <class 'numpy.ndarray'>\n"
     ]
    }
   ],
   "source": [
    "import numpy as np\n",
    "\n",
    "a = np.arange(15).reshape(3, 5)\n",
    "print(a)\n",
    "print('a.shape:', a.shape)            # 배열의 차원\n",
    "print('a.ndim:', a.ndim)              # 배열의 축의 개수\n",
    "print('a.dtype.name:', a.dtype.name)  # 배열의 요소의 타입\n",
    "print('a.itemsize:', a.itemsize)      # 배열 요소의 바이트 크기\n",
    "print('a.size:', a.size)              # 배열의 요소의 총 개수\n",
    "print('type(a):', type(a))            # 배열의 타입"
   ]
  }
 ],
 "metadata": {
  "kernelspec": {
   "display_name": "Python 3",
   "language": "python",
   "name": "python3"
  },
  "language_info": {
   "codemirror_mode": {
    "name": "ipython",
    "version": 3
   },
   "file_extension": ".py",
   "mimetype": "text/x-python",
   "name": "python",
   "nbconvert_exporter": "python",
   "pygments_lexer": "ipython3",
   "version": "3.6.3"
  }
 },
 "nbformat": 4,
 "nbformat_minor": 2
}
