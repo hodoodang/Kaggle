{
 "cells": [
  {
   "cell_type": "markdown",
   "metadata": {},
   "source": [
    "# NumPy Array 만들기\n",
    "\n",
    "다양한 방식으로 NumPy 배열을 생성하는 방법을 알아봅니다.\n",
    "\n",
    "## np.array()\n",
    "정규 파이썬 리스트 또는 튜플을 이용해서 NumPy 배열을 만들 수 있습니다.\n",
    "\n",
    "### 예제"
   ]
  },
  {
   "cell_type": "code",
   "execution_count": 1,
   "metadata": {},
   "outputs": [
    {
     "name": "stdout",
     "output_type": "stream",
     "text": [
      "[2 3 4]\n",
      "int32\n",
      "float64\n"
     ]
    }
   ],
   "source": [
    "import numpy as np\n",
    "\n",
    "a = np.array([2,3,4])\n",
    "print(a)\n",
    "print(a.dtype)\n",
    "\n",
    "b = np.array([1.2, 3.5, 5.1])\n",
    "print(b.dtype)"
   ]
  },
  {
   "cell_type": "markdown",
   "metadata": {},
   "source": [
    "만들어진 배열의 타입은 배열 요소의 타입에 의해 결정됩니다."
   ]
  },
  {
   "cell_type": "markdown",
   "metadata": {},
   "source": [
    "### 예제"
   ]
  },
  {
   "cell_type": "code",
   "execution_count": null,
   "metadata": {
    "collapsed": true
   },
   "outputs": [],
   "source": [
    "a = np.array(1,2,3,4)      # WRONG\n",
    "a = np.array([1,2,3,4])    # RIGHT"
   ]
  },
  {
   "cell_type": "markdown",
   "metadata": {},
   "source": [
    "흔한 실수는 배열을 생성할 때 위와 같이 array()에 여러 개의 숫자를 입력하는 것입니다.\n",
    "\n",
    "파이썬 리스트 형태로 숫자들을 입력해 줍니다."
   ]
  },
  {
   "cell_type": "markdown",
   "metadata": {},
   "source": [
    "## 2차원 배열\n",
    "array()는 숫자의 시퀀스의 시퀀스를 2차원 배열로 변환합니다.\n",
    "\n",
    "### 예제"
   ]
  },
  {
   "cell_type": "code",
   "execution_count": 3,
   "metadata": {},
   "outputs": [
    {
     "name": "stdout",
     "output_type": "stream",
     "text": [
      "[[ 1.5  2.   3. ]\n",
      " [ 4.   5.   6. ]]\n"
     ]
    }
   ],
   "source": [
    "import numpy as np\n",
    "\n",
    "b = np.array([(1.5, 2, 3), (4,5,6)])\n",
    "print(b)"
   ]
  },
  {
   "cell_type": "markdown",
   "metadata": {},
   "source": [
    "시퀀스의 시퀀스의 시퀀스는 3차원 배열이 되고, 그 다음도 마찬가지 입니다."
   ]
  },
  {
   "cell_type": "markdown",
   "metadata": {},
   "source": [
    "## 타입 지정하기 (dtype)\n",
    "배열을 생성할 때 배열의 타입을 명시적으로 지정할 수 있습니다.\n",
    "\n",
    "### 예제"
   ]
  },
  {
   "cell_type": "code",
   "execution_count": 4,
   "metadata": {},
   "outputs": [
    {
     "name": "stdout",
     "output_type": "stream",
     "text": [
      "[[ 1.+0.j  2.+0.j]\n",
      " [ 3.+0.j  4.+0.j]]\n"
     ]
    }
   ],
   "source": [
    "import numpy as np\n",
    "\n",
    "c = np.array([[1,2], [3,4]], dtype=complex)\n",
    "print(c)"
   ]
  },
  {
   "cell_type": "markdown",
   "metadata": {},
   "source": [
    "복소수 타입을 갖는 배열을 만들었습니다."
   ]
  },
  {
   "cell_type": "markdown",
   "metadata": {},
   "source": [
    "## np.zeros(), np.ones(), np.empty()\n",
    "종종 배열을 만들 때, 배열의 크기는 알지만 요소의 값을 알지 못할 수도 있습니다.\n",
    "\n",
    "따라서 NumPy는 초기 placeholder를 이용해서 배열을 만드는 다양한 함수를 제공합니다.\n",
    "\n",
    "이 함수들은 (비용이 많이 드는)배열을 크게 만들 필요가 없도록 합니다."
   ]
  },
  {
   "cell_type": "code",
   "execution_count": 34,
   "metadata": {},
   "outputs": [
    {
     "name": "stdout",
     "output_type": "stream",
     "text": [
      "[[ 0.  0.  0.  0.]\n",
      " [ 0.  0.  0.  0.]\n",
      " [ 0.  0.  0.  0.]]\n",
      "[[[1 1 1 1]\n",
      "  [1 1 1 1]\n",
      "  [1 1 1 1]]\n",
      "\n",
      " [[1 1 1 1]\n",
      "  [1 1 1 1]\n",
      "  [1 1 1 1]]]\n",
      "[[  1.39069238e-309   1.39069238e-309   1.39069238e-309]\n",
      " [  1.39069238e-309   1.39069238e-309   1.39069238e-309]]\n"
     ]
    }
   ],
   "source": [
    "import numpy as np\n",
    "\n",
    "a = np.zeros((3, 4))\n",
    "b = np.ones((2,3,4), dtype=np.int16)\n",
    "c = np.empty((2, 3))\n",
    "\n",
    "print(a)\n",
    "print(b)\n",
    "print(c)"
   ]
  },
  {
   "cell_type": "markdown",
   "metadata": {},
   "source": [
    "zeros() 함수는 요소가 모두 0인 배열을 생성합니다.\n",
    "\n",
    "ones() 함수는 요소가 모두 1인 배열을 생성합니다.\n",
    "\n",
    "empty() 함수는 요소의 초기값을 임의로 정하는데 메모리의 상태에 따라 달라집니다.\n",
    "\n",
    "기본적으로 생성된 배열의 타입(dtype)은 float64입니다."
   ]
  },
  {
   "cell_type": "markdown",
   "metadata": {},
   "source": [
    "## np.arange()\n",
    "연속적인 숫자들(시퀀스)을 만들어내기 위해 NumPy는 range()와 유사한 함수를 제공하는데, 리스트 대신 배열을 반환합니다.\n",
    "\n",
    "### 예제"
   ]
  },
  {
   "cell_type": "code",
   "execution_count": 35,
   "metadata": {},
   "outputs": [
    {
     "name": "stdout",
     "output_type": "stream",
     "text": [
      "[10 15 20 25]\n",
      "[ 0.   0.3  0.6  0.9  1.2  1.5  1.8]\n"
     ]
    }
   ],
   "source": [
    "import numpy as np\n",
    "\n",
    "a = np.arange(10, 30, 5)\n",
    "b = np.arange(0, 2, 0.3)\n",
    "\n",
    "print(a)\n",
    "print(b)"
   ]
  },
  {
   "cell_type": "markdown",
   "metadata": {},
   "source": [
    "## np.linspace()\n",
    "arange()를 부동 소수점 인수와 함께 사용할 때, 부동소수점 정밀도의 제한 때문에 일반적으로 요소의 개수를 예측할 수 없습니다.\n",
    "\n",
    "이런 이유로, 보통은 '증가폭(step)' 대신 '요소의 개수'를 인수로 넣어주는 linspace()함수를 사용하는 것이 좋습니다.\n",
    "\n",
    "### 예제"
   ]
  },
  {
   "cell_type": "code",
   "execution_count": 36,
   "metadata": {},
   "outputs": [
    {
     "name": "stdout",
     "output_type": "stream",
     "text": [
      "[ 0.    0.25  0.5   0.75  1.    1.25  1.5   1.75  2.  ]\n"
     ]
    }
   ],
   "source": [
    "import numpy as np\n",
    "from numpy import pi\n",
    "\n",
    "a = np.linspace(0, 2, 9)            # 9 numbers from 0 to 2\n",
    "print(a)\n",
    "\n",
    "x = np.linspace(0, 2*pi, 100)       # useful to evaluate fuction at lots of points\n",
    "f = np.sin(x)"
   ]
  }
 ],
 "metadata": {
  "kernelspec": {
   "display_name": "Python 3",
   "language": "python",
   "name": "python3"
  },
  "language_info": {
   "codemirror_mode": {
    "name": "ipython",
    "version": 3
   },
   "file_extension": ".py",
   "mimetype": "text/x-python",
   "name": "python",
   "nbconvert_exporter": "python",
   "pygments_lexer": "ipython3",
   "version": "3.6.3"
  }
 },
 "nbformat": 4,
 "nbformat_minor": 2
}
