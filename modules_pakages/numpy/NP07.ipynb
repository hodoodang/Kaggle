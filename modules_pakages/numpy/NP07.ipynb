{
 "cells": [
  {
   "cell_type": "markdown",
   "metadata": {},
   "source": [
    "# NumPy 배열 형태 다루기\n",
    "NumPy 배열의 형태를 다루는 방법(shape manipulation)에 대해 알아봅니다.\n",
    "\n",
    "우선 배열을 형태를 확인하고(`shape`), 변경하고(`reshape()`), 행과 열을 바꾸는(`T`) 방법에 대해 알아봅니다.\n",
    "\n",
    "그리고 `vstack()`, `hstack()`, `column_stack()`을 이용해서 배열을 함치는 방법,  \n",
    "`hsplit()`을 이용해서 배열을 쪼개는 방법에 대해서도 알아봅시다.\n",
    "\n",
    "## Contents\n",
    "* 목차\n",
    "(:toc}\n",
    "\n",
    "# 배열 행태 바꾸기\n",
    "배열은 각 축에 대한 요소의 개수로 주어지는 형태(shape)를 가집니다.\n",
    "\n",
    "배열의 형태를 확인하고, 원하는 형태로 바꾸는 방법에 대해 알아봅니다."
   ]
  },
  {
   "cell_type": "markdown",
   "metadata": {},
   "source": [
    "## ndarray.shape\n",
    "배열의 형태를 반환합니다."
   ]
  },
  {
   "cell_type": "code",
   "execution_count": 3,
   "metadata": {},
   "outputs": [
    {
     "name": "stdout",
     "output_type": "stream",
     "text": [
      "[[ 1.  6.  2.  4.]\n",
      " [ 8.  4.  0.  3.]\n",
      " [ 7.  9.  0.  3.]]\n",
      "(3, 4)\n"
     ]
    }
   ],
   "source": [
    "import numpy as np\n",
    "\n",
    "a = np.floor(10*np.random.random((3,4)))\n",
    "\n",
    "print(a)\n",
    "print(a.shape)"
   ]
  },
  {
   "cell_type": "markdown",
   "metadata": {},
   "source": [
    "배열 a의 형태는 (3,4)입니다."
   ]
  },
  {
   "cell_type": "markdown",
   "metadata": {},
   "source": [
    "배열의 형태는 다양한 명령을 통해 바꿀 수 있습니다.\n",
    "\n",
    "다음의 세가지 명령은 수정된 배열을 반환하지만 원래 배열은 변경하지 않습니다.\n",
    "\n",
    "## ndarray.ravel()\n",
    "```ravel()```은 (1차원으로) 펼쳐진 배열을 반환합니다."
   ]
  },
  {
   "cell_type": "code",
   "execution_count": 4,
   "metadata": {},
   "outputs": [
    {
     "name": "stdout",
     "output_type": "stream",
     "text": [
      "[ 4.  5.  5.  7.  8.  7.  8.  5.  9.  7.  8.  2.]\n"
     ]
    }
   ],
   "source": [
    "import numpy as np\n",
    "\n",
    "a = np.floor(10*np.random.random((3,4)))\n",
    "\n",
    "print(a.ravel())"
   ]
  },
  {
   "cell_type": "markdown",
   "metadata": {},
   "source": [
    "## ndarray.reshape()\n",
    "새로운 형태를 갖는 배열을 반환합니다."
   ]
  },
  {
   "cell_type": "code",
   "execution_count": 5,
   "metadata": {},
   "outputs": [
    {
     "name": "stdout",
     "output_type": "stream",
     "text": [
      "[[ 5.  6.]\n",
      " [ 1.  7.]\n",
      " [ 8.  8.]\n",
      " [ 0.  3.]\n",
      " [ 2.  3.]\n",
      " [ 4.  5.]]\n"
     ]
    }
   ],
   "source": [
    "import numpy as np\n",
    "\n",
    "a = np.floor(10*np.random.random((3,4)))\n",
    "\n",
    "print(a.reshape(6, 2))"
   ]
  },
  {
   "cell_type": "markdown",
   "metadata": {},
   "source": [
    "## ndarray.T\n",
    "행과 열을 바꾼 전치행렬 배열(transposed array)를 반환합니다."
   ]
  },
  {
   "cell_type": "code",
   "execution_count": 6,
   "metadata": {},
   "outputs": [
    {
     "name": "stdout",
     "output_type": "stream",
     "text": [
      "[[ 8.  1.  8.]\n",
      " [ 6.  5.  4.]\n",
      " [ 1.  1.  0.]\n",
      " [ 0.  6.  6.]]\n"
     ]
    }
   ],
   "source": [
    "import numpy as np\n",
    "\n",
    "a = np.floor(10*np.random.random((3,4)))\n",
    "\n",
    "print(a.T)"
   ]
  },
  {
   "cell_type": "markdown",
   "metadata": {},
   "source": [
    "# 배열 합치기\n",
    "여러 배열을 하나의 배열로 합칠 수 있는 `vstack()`, `hstack()`, `column_stack()`의 사용법에 대해 알아봅니다.\n",
    "\n",
    "## numpy.vstack()\n",
    "`vstack()`은 배열을 수직 방향으로(행을 따라서) 합칩니다."
   ]
  },
  {
   "cell_type": "code",
   "execution_count": 9,
   "metadata": {},
   "outputs": [
    {
     "name": "stdout",
     "output_type": "stream",
     "text": [
      "[[ 8.  1.]\n",
      " [ 2.  6.]] \n",
      "\n",
      "[[ 3.  5.]\n",
      " [ 5.  7.]] \n",
      "\n",
      "[[ 8.  1.]\n",
      " [ 2.  6.]\n",
      " [ 3.  5.]\n",
      " [ 5.  7.]]\n"
     ]
    }
   ],
   "source": [
    "import numpy as np\n",
    "\n",
    "a = np.floor(10*np.random.random((2,2)))\n",
    "b = np.floor(10*np.random.random((2,2)))\n",
    "\n",
    "print(a, '\\n')\n",
    "print(b, '\\n')\n",
    "print(np.vstack((a,b)))"
   ]
  },
  {
   "cell_type": "markdown",
   "metadata": {},
   "source": [
    "## numpy.hstack()\n",
    "`hstack()`은 배열을 수평 방향으로(열을 따라서) 합칩니다."
   ]
  },
  {
   "cell_type": "code",
   "execution_count": 10,
   "metadata": {},
   "outputs": [
    {
     "name": "stdout",
     "output_type": "stream",
     "text": [
      "[[ 3.  5.]\n",
      " [ 5.  8.]] \n",
      "\n",
      "[[ 5.  3.]\n",
      " [ 0.  2.]] \n",
      "\n",
      "[[ 3.  5.  5.  3.]\n",
      " [ 5.  8.  0.  2.]]\n"
     ]
    }
   ],
   "source": [
    "import numpy as np\n",
    "\n",
    "a = np.floor(10*np.random.random((2,2)))\n",
    "b = np.floor(10*np.random.random((2,2)))\n",
    "\n",
    "print(a, '\\n')\n",
    "print(b, '\\n')\n",
    "print(np.hstack((a,b)))"
   ]
  },
  {
   "cell_type": "markdown",
   "metadata": {},
   "source": [
    "## numpy.column_stack()\n",
    "`column_stack()`은 1차원 배열을 열 방향으로 세워서 2차원 배열로 만듭니다."
   ]
  },
  {
   "cell_type": "code",
   "execution_count": 12,
   "metadata": {},
   "outputs": [
    {
     "name": "stdout",
     "output_type": "stream",
     "text": [
      "[[ 5.  7.  4.  6.]\n",
      " [ 6.  5.  4.  8.]] \n",
      "\n",
      "[[ 5.  7.  4.  6.]\n",
      " [ 6.  5.  4.  8.]]\n"
     ]
    }
   ],
   "source": [
    "import numpy as np\n",
    "\n",
    "np.random.seed(0)\n",
    "\n",
    "a = np.floor(10*np.random.random((2,2)))\n",
    "b = np.floor(10*np.random.random((2,2)))\n",
    "\n",
    "print(np.hstack((a,b)), '\\n')\n",
    "print(np.column_stack((a,b)))"
   ]
  },
  {
   "cell_type": "markdown",
   "metadata": {},
   "source": [
    "2차원 배열에 대해서는 `hstack()`과 기능이 동일합니다."
   ]
  },
  {
   "cell_type": "code",
   "execution_count": 13,
   "metadata": {},
   "outputs": [
    {
     "name": "stdout",
     "output_type": "stream",
     "text": [
      "[4 2 2 8] \n",
      "\n",
      "[[4 2]\n",
      " [2 8]]\n"
     ]
    }
   ],
   "source": [
    "a = np.array([4, 2])\n",
    "b = np.array([2, 8])\n",
    "\n",
    "print(np.hstack((a,b)), '\\n')\n",
    "print(np.column_stack((a,b)))"
   ]
  },
  {
   "cell_type": "markdown",
   "metadata": {},
   "source": [
    "하지만 1차원 배열에 대해서 `hstack()`과 `column_stack()`은 다른 결과를 반환합니다."
   ]
  },
  {
   "cell_type": "markdown",
   "metadata": {},
   "source": [
    "# 배열 쪼개기\n",
    "\n",
    "`hsplit()`을 이용해서 수평 방향으로 배열을 쪼갤 수 있습니다.\n",
    "\n",
    "동일한 형태로 나눠질 배열의 개수를 지정하거나, 어떤 열(column)에서 나눌지 지정할 수 있습니다.\n",
    "\n",
    "## 동일한 형태로 나누기"
   ]
  },
  {
   "cell_type": "code",
   "execution_count": 15,
   "metadata": {},
   "outputs": [
    {
     "name": "stdout",
     "output_type": "stream",
     "text": [
      "[[ 4.  5.  0.  6.  6.  6.  9.  6.  3.  4.  6.  0.]\n",
      " [ 6.  6.  2.  1.  3.  3.  5.  4.  9.  1.  2.  1.]] \n",
      "\n",
      "[array([[ 4.,  5.,  0.,  6.],\n",
      "       [ 6.,  6.,  2.,  1.]]), array([[ 6.,  6.,  9.,  6.],\n",
      "       [ 3.,  3.,  5.,  4.]]), array([[ 3.,  4.,  6.,  0.],\n",
      "       [ 9.,  1.,  2.,  1.]])]\n"
     ]
    }
   ],
   "source": [
    "import numpy as np\n",
    "\n",
    "a = np.floor(10*np.random.random((2,12)))\n",
    "\n",
    "print(a, '\\n')\n",
    "print(np.hsplit(a, 3))"
   ]
  },
  {
   "cell_type": "markdown",
   "metadata": {},
   "source": [
    "`np.hsplit(a, 3)`은 배열 a를 3개의 동일한 형태의 배열로 나눈 배열을 반환합니다."
   ]
  },
  {
   "cell_type": "markdown",
   "metadata": {},
   "source": [
    "## 나눌 열(column) 지정하기"
   ]
  },
  {
   "cell_type": "code",
   "execution_count": 17,
   "metadata": {},
   "outputs": [
    {
     "name": "stdout",
     "output_type": "stream",
     "text": [
      "[[ 3.  4.  0.  6.  5.  2.  5.  0.  5.  9.  3.  6.]\n",
      " [ 1.  7.  2.  1.  5.  0.  8.  0.  6.  2.  7.  9.]] \n",
      "\n",
      "[array([[ 3.,  4.,  0.],\n",
      "       [ 1.,  7.,  2.]]), array([[ 6.],\n",
      "       [ 1.]]), array([[ 5.,  2.,  5.,  0.,  5.,  9.,  3.,  6.],\n",
      "       [ 5.,  0.,  8.,  0.,  6.,  2.,  7.,  9.]])]\n"
     ]
    }
   ],
   "source": [
    "import numpy as np\n",
    "\n",
    "a = np.floor(10*np.random.random((2,12)))\n",
    "\n",
    "print(a, '\\n')\n",
    "print(np.hsplit(a, (3, 4)))"
   ]
  },
  {
   "cell_type": "markdown",
   "metadata": {},
   "source": [
    "`np.hsplit(a, (3, 4))`은 배열 a를 세 번째 열 이후, 그리고 네 번째 열 이후에서 쪼갠 세개의 배열을 갖는 배열을 반환합ㄴㅣ다."
   ]
  }
 ],
 "metadata": {
  "kernelspec": {
   "display_name": "Python 3",
   "language": "python",
   "name": "python3"
  },
  "language_info": {
   "codemirror_mode": {
    "name": "ipython",
    "version": 3
   },
   "file_extension": ".py",
   "mimetype": "text/x-python",
   "name": "python",
   "nbconvert_exporter": "python",
   "pygments_lexer": "ipython3",
   "version": "3.6.3"
  }
 },
 "nbformat": 4,
 "nbformat_minor": 2
}
