{
 "cells": [
  {
   "cell_type": "markdown",
   "metadata": {},
   "source": [
    "# NumPy 난수 생성 (random 모듈)\n",
    "난수 생성에 활용할 수 있는 NumPy의 random 모둘(numpy.random)에 대해 소개합니다.\n",
    "\n",
    "## random.rand()\n",
    "주어진 형태의 난수 배열을 생성합니다. 만들어진 난수는 `[0,1)` 범위에서 균일한 분포를 갖습니다.\n",
    "\n",
    "### 예제"
   ]
  },
  {
   "cell_type": "code",
   "execution_count": 3,
   "metadata": {},
   "outputs": [
    {
     "name": "stdout",
     "output_type": "stream",
     "text": [
      "[ 0.60920822  0.95311395  0.66731546  0.40097285  0.1375211 ]\n",
      "\n",
      "[[ 0.41520735  0.19249325  0.4485375 ]\n",
      " [ 0.80175777  0.87485588  0.46604804]]\n"
     ]
    }
   ],
   "source": [
    "import numpy as np\n",
    "\n",
    "a  = np.random.rand(5)\n",
    "print(a)\n",
    "print()\n",
    "b = np.random.rand(2, 3)\n",
    "print(b)"
   ]
  },
  {
   "cell_type": "markdown",
   "metadata": {},
   "source": [
    "## random.radint()\n",
    "최저값에서 최대값 사이의 범위(`[최저값, 최대값)`)에서 임의의 정수를 만듭니다.\n",
    "\n",
    "### 예제"
   ]
  },
  {
   "cell_type": "code",
   "execution_count": 8,
   "metadata": {},
   "outputs": [
    {
     "name": "stdout",
     "output_type": "stream",
     "text": [
      "[0 1 1 0 1] \n",
      "\n",
      "[2 3 3 3 2] \n",
      "\n",
      "[[2 3 3]\n",
      " [3 2 4]]\n"
     ]
    }
   ],
   "source": [
    "import numpy as np\n",
    "\n",
    "a = np.random.randint(2, size=5)\n",
    "print(a, '\\n')\n",
    "\n",
    "b = np.random.randint(2, 4, size=5)\n",
    "print(b, '\\n')\n",
    "\n",
    "c = np.random.randint(1, 5, size=(2, 3))\n",
    "print(c)"
   ]
  },
  {
   "cell_type": "markdown",
   "metadata": {},
   "source": [
    "`np.random.randint(2, size=5)`는 `[0, 2)` 범위에서 다섯개의 임의의 정수를 생성합니다.  \n",
    "`np.random.randint(2, 4, size=5)`는 `[2, 4)` 범위에서 다섯개의 임의의 정수를 생성합니다.  \n",
    "`np.random.randint(1, 5, size=(2,3))`는 `[1, 5)` 범위에서 (2, 3) 형태의 배열을 생성합니다."
   ]
  },
  {
   "cell_type": "markdown",
   "metadata": {},
   "source": [
    "## random.randn()\n",
    "표준정규분포(standard normal distribution)를 갖는 난수를 반환합니다.\n",
    "\n",
    "### 예제"
   ]
  },
  {
   "cell_type": "code",
   "execution_count": 10,
   "metadata": {},
   "outputs": [
    {
     "name": "stdout",
     "output_type": "stream",
     "text": [
      "[-0.41445502  0.34748109 -1.78527408 -0.03551658 -0.6609397 ] \n",
      "\n",
      "[[-0.23332955 -0.86879772 -0.23804619]\n",
      " [-1.48205742 -0.89764646  0.18136709]] \n",
      "\n",
      "[ 3.5366009   1.1414697   2.54900955  1.27839507  3.68042987]\n"
     ]
    }
   ],
   "source": [
    "import numpy as np\n",
    "\n",
    "a = np.random.randn(5)\n",
    "print(a, '\\n')\n",
    "\n",
    "b = np.random.randn(2, 3)\n",
    "print(b, '\\n')\n",
    "\n",
    "sigma, mu = 1.5, 2.0\n",
    "\n",
    "c = sigma * np.random.randn(5) + mu\n",
    "print(c)"
   ]
  },
  {
   "cell_type": "markdown",
   "metadata": {},
   "source": [
    "표준정규분포 N(1,0)이 아닌, 평균 μ, 표준편차 σ 를 갖는 정규분포 N(μ, σ2)의 난수를 원한다면  \n",
    "σ  * np.random.randn(…) + μ 와 같은 형태로 사용합니다."
   ]
  },
  {
   "cell_type": "markdown",
   "metadata": {},
   "source": [
    "## random.standard_normal()\n",
    "`rand()`과 `standard_normal()`은 기능이 비슷하지만 `standard_normal()`은 튜플을 인자로 받는다는 점에서 차이가 있습니다.\n",
    "\n",
    "### 예제"
   ]
  },
  {
   "cell_type": "code",
   "execution_count": 12,
   "metadata": {},
   "outputs": [
    {
     "name": "stdout",
     "output_type": "stream",
     "text": [
      "[ 0.89780958  1.58755277 -0.59726857] \n",
      "\n",
      "[[ 0.45775699 -0.33560329  1.61671317]\n",
      " [-0.52426707  1.39175383  2.49234829]]\n"
     ]
    }
   ],
   "source": [
    "import numpy as np\n",
    "\n",
    "d = np.random.standard_normal(3)\n",
    "print(d, '\\n')\n",
    "\n",
    "e = np.random.standard_normal((2,3))\n",
    "print(e)"
   ]
  },
  {
   "cell_type": "markdown",
   "metadata": {},
   "source": [
    "## random.radom_sample()\n",
    "`[0.0 1.0)` 범위의 임의의 실수를 반환합니다.\n",
    "\n",
    "### 예제"
   ]
  },
  {
   "cell_type": "code",
   "execution_count": 14,
   "metadata": {},
   "outputs": [
    {
     "name": "stdout",
     "output_type": "stream",
     "text": [
      "0.2643612557897852 \n",
      "\n",
      "[[ 0.76353349  0.40910816]\n",
      " [ 0.8208421   0.42985358]\n",
      " [ 0.54507149  0.43234981]\n",
      " [ 0.0525727   0.68185345]\n",
      " [ 0.84055597  0.81640486]] \n",
      "\n",
      "[[ 1.08887705 -2.42679357]\n",
      " [-2.9061541   0.23239652]\n",
      " [ 1.90662831 -0.36171245]]\n"
     ]
    }
   ],
   "source": [
    "import numpy as np\n",
    "\n",
    "a = np.random.random_sample()\n",
    "print(a, '\\n')\n",
    "\n",
    "b = np.random.random_sample((5, 2))\n",
    "print(b, '\\n')\n",
    "\n",
    "c = 5 * np.random.random_sample((3, 2)) - 3\n",
    "print(c)"
   ]
  },
  {
   "cell_type": "markdown",
   "metadata": {},
   "source": [
    "`[0.0, 1.0)` 범위가 아닌 `[a, b)` 범위의 난수를 생성하려면,  \n",
    "배열 c의 경우와 같이 `(b-a)*random_sample() + a`와 같이 생성하면 됩니다."
   ]
  },
  {
   "cell_type": "markdown",
   "metadata": {},
   "source": [
    "## random.choice()\n",
    "주어진 1차원 배열에서 임의의 샘플을 생성합니다.\n",
    "\n",
    "### 예제"
   ]
  },
  {
   "cell_type": "code",
   "execution_count": 15,
   "metadata": {},
   "outputs": [
    {
     "name": "stdout",
     "output_type": "stream",
     "text": [
      "[0 0 3] \n",
      "\n",
      "[[8 8 5]\n",
      " [4 2 6]]\n"
     ]
    }
   ],
   "source": [
    "import numpy as np\n",
    "\n",
    "a = np.random.choice(5, 3)\n",
    "print(a, '\\n')\n",
    "\n",
    "b = np.random.choice(10, (2, 3))\n",
    "print(b)"
   ]
  },
  {
   "cell_type": "markdown",
   "metadata": {},
   "source": [
    "배열 a는 `np.arange(5)`에서 3개의 샘플을 뽑은 1차원 배열입니다.\n",
    "\n",
    "배열 b는 `np.arange(10)`에서 샘플을 뽑은 (2, 3) 형태의 배열입니다."
   ]
  },
  {
   "cell_type": "markdown",
   "metadata": {},
   "source": [
    "## random.seed()\n",
    "난수 생성에 필요한 시드를 정합니다.  \n",
    "코드를 실행할 때마다 똑같은 난수가 생성됩니다.\n",
    "\n",
    "### 예제"
   ]
  },
  {
   "cell_type": "code",
   "execution_count": 16,
   "metadata": {},
   "outputs": [
    {
     "name": "stdout",
     "output_type": "stream",
     "text": [
      "[[ 0.5488135   0.71518937  0.60276338]\n",
      " [ 0.54488318  0.4236548   0.64589411]]\n"
     ]
    }
   ],
   "source": [
    "import numpy as np\n",
    "\n",
    "np.random.seed(0)\n",
    "\n",
    "print(np.random.rand(2, 3))"
   ]
  }
 ],
 "metadata": {
  "kernelspec": {
   "display_name": "Python 3",
   "language": "python",
   "name": "python3"
  },
  "language_info": {
   "codemirror_mode": {
    "name": "ipython",
    "version": 3
   },
   "file_extension": ".py",
   "mimetype": "text/x-python",
   "name": "python",
   "nbconvert_exporter": "python",
   "pygments_lexer": "ipython3",
   "version": "3.6.3"
  }
 },
 "nbformat": 4,
 "nbformat_minor": 2
}
