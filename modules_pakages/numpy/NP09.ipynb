{
 "cells": [
  {
   "cell_type": "markdown",
   "metadata": {},
   "source": [
    "# NumPy 다양한 함수들\n",
    "NumPy의 다양한 함수의 사용법에 대해 소개합니다.\n",
    "\n",
    "* 목차\n",
    "{:toc}"
   ]
  },
  {
   "cell_type": "code",
   "execution_count": 1,
   "metadata": {},
   "outputs": [],
   "source": [
    "import numpy as np"
   ]
  },
  {
   "cell_type": "markdown",
   "metadata": {},
   "source": [
    "## numpy.absolute\n",
    "numpy.absolute 함수는 배열의 요소 단위로 절대값을 반환합니다.\n",
    "\n",
    "`numpy.abs`는 이 함수의 축약형입니다."
   ]
  },
  {
   "cell_type": "code",
   "execution_count": 3,
   "metadata": {},
   "outputs": [
    {
     "name": "stdout",
     "output_type": "stream",
     "text": [
      "1.5\n",
      "[1 2 3]\n",
      "[ 1.41421356  2.23606798]\n"
     ]
    }
   ],
   "source": [
    "a = np.absolute(-1.5)\n",
    "print(a)\n",
    "\n",
    "b = np.abs([-1, 2, -3])\n",
    "print(b)\n",
    "\n",
    "c = np.absolute([1-1j, 1+2j])\n",
    "print(c)"
   ]
  },
  {
   "cell_type": "markdown",
   "metadata": {},
   "source": [
    "스칼라 입력값에 대해서는 절대값을 반환하고, 복소수 입력에 대해서는 크기를 반환합니다."
   ]
  },
  {
   "cell_type": "markdown",
   "metadata": {},
   "source": [
    "## numpy.amax\n",
    "배열의 최대값을 반환합니다."
   ]
  },
  {
   "cell_type": "code",
   "execution_count": 4,
   "metadata": {},
   "outputs": [
    {
     "name": "stdout",
     "output_type": "stream",
     "text": [
      "[[0 1]\n",
      " [2 3]]\n",
      "3\n"
     ]
    }
   ],
   "source": [
    "a = np.arange(4).reshape((2, 2))\n",
    "\n",
    "print(a)\n",
    "print(np.amax(a))"
   ]
  },
  {
   "cell_type": "markdown",
   "metadata": {},
   "source": [
    "## numpy.append\n",
    "numpy.append 함수는 배열의 끝에 요소를 추가합니다.  \n",
    "첫번째 파라미터에는 대상 배열, 두번째 파라미터는 추가할 값을 입력해줍니다.  \n",
    "세번째 파라미터는 축을 지정해줍니다.\n",
    "\n",
    "### 예제1 - 값 추가하기"
   ]
  },
  {
   "cell_type": "code",
   "execution_count": 5,
   "metadata": {},
   "outputs": [
    {
     "name": "stdout",
     "output_type": "stream",
     "text": [
      "[0 1 2 3]\n"
     ]
    }
   ],
   "source": [
    "a = np.array([0, 1, 2])\n",
    "b = np.append(a, 3)\n",
    "\n",
    "print(b)"
   ]
  },
  {
   "cell_type": "markdown",
   "metadata": {},
   "source": [
    "배열 [1,2,3]의 끝에 값 3을 추가합니다.  \n",
    "값 또는 배열이 추가된 새로운 배열을 반환합니다."
   ]
  },
  {
   "cell_type": "markdown",
   "metadata": {},
   "source": [
    "### 예제2 - 배열 추가하기"
   ]
  },
  {
   "cell_type": "code",
   "execution_count": 6,
   "metadata": {},
   "outputs": [
    {
     "name": "stdout",
     "output_type": "stream",
     "text": [
      "[1 2 3 4 5 6 7 8 9]\n"
     ]
    }
   ],
   "source": [
    "a = np.array([[1,2,3], [4,5,6]])\n",
    "b = np.array([[7,8,9]])\n",
    "c = np.append(a, b)\n",
    "\n",
    "print(c)"
   ]
  },
  {
   "cell_type": "markdown",
   "metadata": {},
   "source": [
    "배열을 추가할 때 세번째 파라미터에 축(axis)을 지정하지 않으면, 배열이 1차원 배열로 변환(flatten)되어서 추가됩니다."
   ]
  },
  {
   "cell_type": "markdown",
   "metadata": {},
   "source": [
    "### 예제3 - 축 지정하기"
   ]
  },
  {
   "cell_type": "code",
   "execution_count": 7,
   "metadata": {},
   "outputs": [
    {
     "name": "stdout",
     "output_type": "stream",
     "text": [
      "[[1 2 3]\n",
      " [4 5 6]\n",
      " [7 8 9]]\n"
     ]
    }
   ],
   "source": [
    "a = np.array([[1,2,3], [4,5,6]])\n",
    "b = np.array([[7,8,9]])\n",
    "c = np.append(a, b, axis=0)\n",
    "\n",
    "print(c)"
   ]
  },
  {
   "cell_type": "markdown",
   "metadata": {},
   "source": [
    "첫번째 축(axis=0)을 기준으로 추가해서 2차원 배열을 반환합니다."
   ]
  },
  {
   "cell_type": "markdown",
   "metadata": {},
   "source": [
    "## numpy.arange\n",
    "주어진 간격에 따라 균일한 배열을 생성합니다.\n",
    "\n",
    "### 예제"
   ]
  },
  {
   "cell_type": "code",
   "execution_count": 8,
   "metadata": {},
   "outputs": [
    {
     "name": "stdout",
     "output_type": "stream",
     "text": [
      "[0 1 2 3 4]\n",
      "[1 2 3 4]\n",
      "[2 4 6 8]\n"
     ]
    }
   ],
   "source": [
    "import numpy as np\n",
    "\n",
    "a = np.arange(5)\n",
    "b = np.arange(1, 5)\n",
    "c = np.arange(2, 10, 2)\n",
    "\n",
    "print(a)\n",
    "print(b)\n",
    "print(c)"
   ]
  },
  {
   "cell_type": "markdown",
   "metadata": {},
   "source": [
    "## numpy.argmax\n",
    "최대값을 갖는 성분의 인덱스를 반환합니다.\n",
    "\n",
    "### 예제"
   ]
  },
  {
   "cell_type": "code",
   "execution_count": 9,
   "metadata": {},
   "outputs": [
    {
     "name": "stdout",
     "output_type": "stream",
     "text": [
      "2\n",
      "2\n"
     ]
    }
   ],
   "source": [
    "a = np.array([0, 1, 4, 2, 3])\n",
    "b = np.array([0, 1, 4, 2, 3, 4])\n",
    "\n",
    "print(np.argmax(a))\n",
    "print(np.argmax(a))"
   ]
  },
  {
   "cell_type": "markdown",
   "metadata": {},
   "source": [
    "최대값이 여러 개 있다면 처음으로 발견한 성분의 인덱스만 반환합니다.\n",
    "\n",
    "### 예제"
   ]
  },
  {
   "cell_type": "code",
   "execution_count": 12,
   "metadata": {},
   "outputs": [
    {
     "name": "stdout",
     "output_type": "stream",
     "text": [
      "3\n"
     ]
    }
   ],
   "source": [
    "a = np.array([[1, 2, 3], [4, 3, 2]])\n",
    "print(np.argmax(a))"
   ]
  },
  {
   "cell_type": "markdown",
   "metadata": {},
   "source": [
    "2차원 배열의 경우 1차원으로 바꾼 후 인덱스를 반환합니다."
   ]
  },
  {
   "cell_type": "markdown",
   "metadata": {},
   "source": [
    "## numpy.around\n",
    "numpy.around 함수는 배열의 성분을 주어진 소수점 자리로 반올림합니다.  \n",
    "numpy.round_ 함수와 동일합니다.\n",
    "\n",
    "### 예제"
   ]
  },
  {
   "cell_type": "code",
   "execution_count": 13,
   "metadata": {},
   "outputs": [
    {
     "name": "stdout",
     "output_type": "stream",
     "text": [
      "[  0.    -0.11   4.15 -11.24]\n"
     ]
    }
   ],
   "source": [
    "import numpy as np\n",
    "\n",
    "a = np.array([0.001, -0.1123, 4.151, -11.24499])\n",
    "a_rounded = np.around(a, 2)\n",
    "\n",
    "print(a_rounded)"
   ]
  },
  {
   "cell_type": "markdown",
   "metadata": {},
   "source": [
    "np.around(a, 2)는 배열 a를 소숫점 세번째 자리에서 두번째 자리로 반올림합니다.  \n",
    "결과적으로 소숫점 두번째 자리까지 표시됩니다."
   ]
  },
  {
   "cell_type": "markdown",
   "metadata": {},
   "source": [
    "## numpy.array\n",
    "numpy.array함수는 배열을 생성합니다.\n",
    "\n",
    "### 예제"
   ]
  },
  {
   "cell_type": "code",
   "execution_count": 15,
   "metadata": {},
   "outputs": [
    {
     "name": "stdout",
     "output_type": "stream",
     "text": [
      "[1 2 3]\n"
     ]
    }
   ],
   "source": [
    "a = np.array([1, 2, 3])\n",
    "print(a)"
   ]
  },
  {
   "cell_type": "markdown",
   "metadata": {},
   "source": [
    "np.array([1, 2, 3])는 입력한 배열(리스트)과 같은 NumPy 배열을 만듭니다."
   ]
  },
  {
   "cell_type": "markdown",
   "metadata": {},
   "source": [
    "### 예제"
   ]
  },
  {
   "cell_type": "code",
   "execution_count": 16,
   "metadata": {},
   "outputs": [
    {
     "name": "stdout",
     "output_type": "stream",
     "text": [
      "[ 1.  2.  3.]\n"
     ]
    }
   ],
   "source": [
    "a = np.array([1, 2, 3.0])\n",
    "print(a)"
   ]
  },
  {
   "cell_type": "markdown",
   "metadata": {},
   "source": [
    "배열의 타입은 배열의 요소의 타입에 의해 결정되는데,  \n",
    "\n",
    "다양한 타입을 갖는 배열이 만들어질 때, 만들어지는 배열의 타입은 더 일반적인 또는 더 정밀한 타입으로 결정(upcasting)됩니다.\n",
    "\n",
    "즉, 요소가 int타입과 float타입을 가질 때, 만들어지는 배열은 float타입으로 만들어집니다."
   ]
  },
  {
   "cell_type": "markdown",
   "metadata": {},
   "source": [
    "### 예제"
   ]
  },
  {
   "cell_type": "code",
   "execution_count": 17,
   "metadata": {},
   "outputs": [
    {
     "name": "stdout",
     "output_type": "stream",
     "text": [
      "[[1 2]\n",
      " [3 4]]\n"
     ]
    }
   ],
   "source": [
    "a = np.array([[1, 2], [3, 4]])\n",
    "print(a)"
   ]
  },
  {
   "cell_type": "markdown",
   "metadata": {},
   "source": [
    "다차원의 배열도 만들 수 있습니다."
   ]
  },
  {
   "cell_type": "markdown",
   "metadata": {},
   "source": [
    "### 예제"
   ]
  },
  {
   "cell_type": "code",
   "execution_count": 18,
   "metadata": {},
   "outputs": [
    {
     "name": "stdout",
     "output_type": "stream",
     "text": [
      "[[1 2]]\n",
      "[[[1 2 3]]]\n"
     ]
    }
   ],
   "source": [
    "a = np.array([1, 2], ndmin=2)\n",
    "b = np.array([1, 2, 3], ndmin=3)\n",
    "\n",
    "print(a)\n",
    "print(b)"
   ]
  },
  {
   "cell_type": "markdown",
   "metadata": {},
   "source": [
    "ndmin을 이용해서 배열의 최소 차원을 지정할 수 있습니다.  \n",
    "배열 a는 2차원 배열([[1 2]])가 되고, 배열 b는 3차원 배열([[[1 2 3]]])가 됩니다."
   ]
  },
  {
   "cell_type": "markdown",
   "metadata": {},
   "source": [
    "### 예제"
   ]
  },
  {
   "cell_type": "code",
   "execution_count": 19,
   "metadata": {},
   "outputs": [
    {
     "name": "stdout",
     "output_type": "stream",
     "text": [
      "[1 2]\n",
      "[ 1.  2.]\n",
      "[ 1.+0.j  2.+0.j]\n"
     ]
    }
   ],
   "source": [
    "a = np.array([1, 2], dtype=int)\n",
    "b = np.array([1, 2], dtype=float)\n",
    "c = np.array([1, 2], dtype=complex)\n",
    "\n",
    "print(a)\n",
    "print(b)\n",
    "print(c)"
   ]
  },
  {
   "cell_type": "markdown",
   "metadata": {},
   "source": [
    "dtype을 이용해서 배열의 타입을 지정할 수 있습니다."
   ]
  },
  {
   "cell_type": "markdown",
   "metadata": {},
   "source": [
    "## numpy.ceil\n",
    "numpy.ceil 함수는 입력의 요소 단위의 'ceil'값을 반환합니다.  \n",
    "스칼라 x의 'ceil'는 x보다 **크거나 같은, 가장 작은 정수**입니다. 흔히 ⎡x⎤로 표현됩니다.\n",
    "\n",
    "### 예제"
   ]
  },
  {
   "cell_type": "code",
   "execution_count": 20,
   "metadata": {},
   "outputs": [
    {
     "name": "stdout",
     "output_type": "stream",
     "text": [
      "[-1. -1. -0.  1.  2.  2.  2.]\n"
     ]
    }
   ],
   "source": [
    "a = np.array([-1.7, -1.5, -0.2, 0.2, 1.5, 1.7, 2.0])\n",
    "\n",
    "print(np.ceil(a))"
   ]
  },
  {
   "cell_type": "markdown",
   "metadata": {},
   "source": [
    "## numpy.copy\n",
    "배열을 복사해서 반환합니다.\n",
    "\n",
    "### 예제"
   ]
  },
  {
   "cell_type": "code",
   "execution_count": 21,
   "metadata": {},
   "outputs": [
    {
     "name": "stdout",
     "output_type": "stream",
     "text": [
      "[3 2 3]\n",
      "[1 2 3]\n"
     ]
    }
   ],
   "source": [
    "a = np.array([1, 2, 3])\n",
    "b = np.copy(a)\n",
    "a[0] = 3\n",
    "\n",
    "print(a)\n",
    "print(b)"
   ]
  },
  {
   "cell_type": "markdown",
   "metadata": {},
   "source": [
    "## numpy.delete\n",
    "인덱스를 이용해서 배열의 성분을 제거합니다.\n",
    "\n",
    "### 예제"
   ]
  },
  {
   "cell_type": "code",
   "execution_count": 23,
   "metadata": {},
   "outputs": [
    {
     "name": "stdout",
     "output_type": "stream",
     "text": [
      "[[ 0  1  2  3]\n",
      " [ 4  5  6  7]\n",
      " [ 8  9 10 11]] \n",
      "\n",
      "[ 0  1  2  3  4  6  7  8  9 10 11] \n",
      "\n",
      "[[ 0  2  3]\n",
      " [ 4  6  7]\n",
      " [ 8 10 11]]\n"
     ]
    }
   ],
   "source": [
    "a = np.arange(12).reshape(3, 4)\n",
    "\n",
    "print(a, '\\n')\n",
    "print(np.delete(a, 5), '\\n')\n",
    "print(np.delete(a, 1, axis=1))"
   ]
  },
  {
   "cell_type": "markdown",
   "metadata": {},
   "source": [
    "여러 개의 요소를 동시에 제거하려면 인덱스의 배열을 입력해줍니다.\n",
    "\n",
    "### 예제"
   ]
  },
  {
   "cell_type": "code",
   "execution_count": 24,
   "metadata": {},
   "outputs": [
    {
     "name": "stdout",
     "output_type": "stream",
     "text": [
      "[0 1 3 5 7 8 9]\n"
     ]
    }
   ],
   "source": [
    "a = np.array([0, 1, 2, 3, 4, 5, 6, 7, 8, 9])\n",
    "b = [2, 4, 6]\n",
    "\n",
    "print(np.delete(a, b))"
   ]
  },
  {
   "cell_type": "markdown",
   "metadata": {},
   "source": [
    "## numpy.digitize\n",
    "입력한 배열1의 값이 입력한 배열2의 어느 값에 해당하는지 인덱스를 반환합니다.\n",
    "\n",
    "### 예제"
   ]
  },
  {
   "cell_type": "code",
   "execution_count": 25,
   "metadata": {},
   "outputs": [
    {
     "name": "stdout",
     "output_type": "stream",
     "text": [
      "[1 4 3 5 2 4]\n",
      "[0 4 2 8 1 4]\n"
     ]
    }
   ],
   "source": [
    "a = np.array([0.23, 5.43, 2.56, 8.89, 1.29, 4.5])\n",
    "dig = np.array([0, 1, 2, 4, 8])\n",
    "ind = np.digitize(a, dig)\n",
    "\n",
    "print(ind)\n",
    "print(dig[ind - 1])"
   ]
  },
  {
   "cell_type": "markdown",
   "metadata": {},
   "source": [
    "## numpy.empty_like\n",
    "numpy.empty_like 함수는 (값의 초기화를 수행하지 않고) 주어진 배열의 형태와 타입을 갖는 새로운 배열을 반환합니다.\n",
    "\n",
    "### 예제"
   ]
  },
  {
   "cell_type": "code",
   "execution_count": 27,
   "metadata": {},
   "outputs": [
    {
     "name": "stdout",
     "output_type": "stream",
     "text": [
      "([1, 2, 3], [4, 5, 6])\n",
      "[[         0 1072693248          0]\n",
      " [1073741824          0 1074266112]] \n",
      "\n",
      "([1.0, 2.0, 3.0], [4.0, 5.0, 6.0])\n",
      "[[  6.12147228e+169   1.14283473e-071   6.03002278e+174]\n",
      " [  1.14287892e-071   0.00000000e+000   0.00000000e+000]]\n"
     ]
    }
   ],
   "source": [
    "a = ([1, 2, 3], [4, 5, 6])\n",
    "a_like = np.empty_like(a)\n",
    "\n",
    "b = ([1., 2., 3.], [4., 5., 6.])\n",
    "b_like = np.empty_like(b)\n",
    "\n",
    "print(a)\n",
    "print(a_like, '\\n')\n",
    "print(b)\n",
    "print(b_like)"
   ]
  },
  {
   "cell_type": "markdown",
   "metadata": {},
   "source": [
    "배열과 유사한 a와 b에 대해 같은 형태를 갖는 새로운 배열 a_like와 b_like가 만들어졌습니다.\n",
    "\n",
    "numpy.empty_like는 반환하는 배열의 값을 초기화하지 않습니다.\n",
    "\n",
    "초기화를 위해서는 numpy.zeros_like 또는 numpy.ones_like 를 사용해야 합니다.  \n",
    "더 빠르게 동작하지만 값을 직접 설정해줘야 합니다."
   ]
  },
  {
   "cell_type": "markdown",
   "metadata": {},
   "source": [
    "## numpy.empty\n",
    "numpy.empty 함수는 (값의 초기화를 수행하지 않고) 주어진 형태와 타입을 갖는 새로운 배열을 반환합니다.\n",
    "\n",
    "### 예제"
   ]
  },
  {
   "cell_type": "code",
   "execution_count": 28,
   "metadata": {},
   "outputs": [
    {
     "name": "stdout",
     "output_type": "stream",
     "text": [
      "[[  6.12147228e+169   1.14283473e-071]\n",
      " [  6.03002278e+174   1.14287892e-071]]\n",
      "[[         0 1072693248          0]\n",
      " [1073741824          0 1074266112]]\n"
     ]
    }
   ],
   "source": [
    "a = np.empty([2, 2])\n",
    "b = np.empty([2, 3], dtype=int)\n",
    "\n",
    "print(a)\n",
    "print(b)"
   ]
  },
  {
   "cell_type": "markdown",
   "metadata": {},
   "source": [
    "numpy.zeros와 달리 numpy.empty는 배열의 값들을 0으로 초기화하지 않아서 더 빠릅니다.\n",
    "\n",
    "하지만 배열의 값을 직접 설정해줄 필요가 있기 때문에 주의가 요구됩니다."
   ]
  },
  {
   "cell_type": "markdown",
   "metadata": {},
   "source": [
    "## numpy.exp\n",
    "exponential 값을 구합니다.\n",
    "\n",
    "### 예제1 - 하나의 값 입력"
   ]
  },
  {
   "cell_type": "code",
   "execution_count": 2,
   "metadata": {},
   "outputs": [
    {
     "name": "stdout",
     "output_type": "stream",
     "text": [
      "1.0\n",
      "2.71828182846\n",
      "22026.4657948\n"
     ]
    }
   ],
   "source": [
    "print(np.exp(0))\n",
    "print(np.exp(1))\n",
    "print(np.exp(10))"
   ]
  },
  {
   "cell_type": "markdown",
   "metadata": {},
   "source": [
    "`exp()`함수에 하나의 값을 입력하면 exponential 값을 반환합니다.\n",
    "\n",
    "### 예제2 - 배열 입력"
   ]
  },
  {
   "cell_type": "code",
   "execution_count": 3,
   "metadata": {},
   "outputs": [
    {
     "name": "stdout",
     "output_type": "stream",
     "text": [
      "[  1.00000000e+00   2.71828183e+00   2.20264658e+04]\n"
     ]
    }
   ],
   "source": [
    "a = np.array([0, 1, 10])\n",
    "print(np.exp(a))"
   ]
  },
  {
   "cell_type": "markdown",
   "metadata": {},
   "source": [
    "`exp()`함수에 배열을 입력하면 각각의 요소 단위로 exponential 값을 계산해서 배열을 반환합니다.\n",
    "\n",
    "### 예제3 - expm1(), exp2()"
   ]
  },
  {
   "cell_type": "code",
   "execution_count": 4,
   "metadata": {},
   "outputs": [
    {
     "name": "stdout",
     "output_type": "stream",
     "text": [
      "[  0.00000000e+00   1.71828183e+00   2.20254658e+04]\n",
      "[  1.00000000e+00   2.00000000e+00   1.02400000e+03]\n"
     ]
    }
   ],
   "source": [
    "a = np.array([0, 1, 10])\n",
    "print(np.expm1(a))\n",
    "print(np.exp2(a))"
   ]
  },
  {
   "cell_type": "markdown",
   "metadata": {},
   "source": [
    "`expm1()`(exponential minus 1)함수는 exponential을 계산한 후 1을 빼주는 함수입니다.\n",
    "\n",
    "`exp2()`함수는 2\\*\\*x(x는 입력값)을 계산하는 함수입니다."
   ]
  },
  {
   "cell_type": "markdown",
   "metadata": {},
   "source": [
    "## numpy.fix\n",
    "numpy.fix 함수는 0을 향해 가장 까까운 정수로 올림(또는 내림)합니다.\n",
    "\n",
    "### 예제"
   ]
  },
  {
   "cell_type": "code",
   "execution_count": 5,
   "metadata": {},
   "outputs": [
    {
     "name": "stdout",
     "output_type": "stream",
     "text": [
      "3.0\n",
      "[-2. -2.  2.  2.]\n"
     ]
    }
   ],
   "source": [
    "a = np.fix(3.14)\n",
    "b = np.fix([-2.9, -2.1, 2.1, 2.9])\n",
    "\n",
    "print(a)\n",
    "print(b)"
   ]
  },
  {
   "cell_type": "markdown",
   "metadata": {},
   "source": [
    "-2.9와 -2.1의 0을 향해 가장 가까운 정수는 -2.0  \n",
    "2.1과 2.9의 0을 향해 가장 가까운 정수는 2.0입니다.\n",
    "\n",
    "반환된 배열은 float타입을 갖습니다."
   ]
  },
  {
   "cell_type": "markdown",
   "metadata": {},
   "source": [
    "## numpy.floor\n",
    "numpy.floor 함수는 입력의 요소 단위의 'floor' 값을 반환합니다.\n",
    "\n",
    "스칼라 x의 'floor'는 x보다 **작거나 같은, 가장 큰 정수** 입니다. 흔히 ⎣x⎦로 표현됩니다.\n",
    "\n",
    "### 예제"
   ]
  },
  {
   "cell_type": "code",
   "execution_count": 6,
   "metadata": {},
   "outputs": [
    {
     "name": "stdout",
     "output_type": "stream",
     "text": [
      "[-2. -2. -1.  0.  1.  1.  2.]\n"
     ]
    }
   ],
   "source": [
    "a = np.array([-1.7, -1.5, -0.2, 0.2, 1.5, 1.7, 2.0])\n",
    "\n",
    "print(np.floor(a))"
   ]
  },
  {
   "cell_type": "markdown",
   "metadata": {},
   "source": [
    "## numpy.full_like\n",
    "numpy.full_like 함수는 주어진 배열의 형태와 타입을 갖는, 주어진 값으로 채워진 새로운 배열을 반환합니다.\n",
    "\n",
    "### 예제"
   ]
  },
  {
   "cell_type": "code",
   "execution_count": 7,
   "metadata": {},
   "outputs": [
    {
     "name": "stdout",
     "output_type": "stream",
     "text": [
      "[0 1 2 3 4]\n",
      "[1 1 1 1 1]\n",
      "[ 0.  1.  2.  3.  4.  5.]\n",
      "[ 0.1  0.1  0.1  0.1  0.1  0.1]\n"
     ]
    }
   ],
   "source": [
    "a = np.arange(5, dtype=int)\n",
    "a_full_like = np.full_like(a, 1)\n",
    "print(a)\n",
    "print(a_full_like)\n",
    "\n",
    "b = np.arange(6, dtype=np.double)\n",
    "b_full_like = np.full_like(b, 0.1)\n",
    "print(b)\n",
    "print(b_full_like)"
   ]
  },
  {
   "cell_type": "markdown",
   "metadata": {},
   "source": [
    "배열 a_full_like는 배열의 형태와 타입은 배열 a와 같고, 값은 1로 채워집니다.  \n",
    "배열 b_full_like는 배열의 형태와 타입은 배열 b와 같고, 값은 0.1로 채워집니다."
   ]
  },
  {
   "cell_type": "markdown",
   "metadata": {},
   "source": [
    "## numpy.full\n",
    "numpy.full 함수는 주어진 형태와 타입을 갖는, 주어진 값으로 채워진 새로운 배열을 반환합니다.\n",
    "\n",
    "### 예제"
   ]
  },
  {
   "cell_type": "code",
   "execution_count": 8,
   "metadata": {},
   "outputs": [
    {
     "name": "stdout",
     "output_type": "stream",
     "text": [
      "[[ inf  inf]\n",
      " [ inf  inf]]\n",
      "[[ 0.1  0.1]\n",
      " [ 0.1  0.1]]\n"
     ]
    }
   ],
   "source": [
    "a = np.full((2, 2), np.inf)\n",
    "print(a)\n",
    "\n",
    "b = np.full((2, 2), 0.1)\n",
    "print(b)"
   ]
  },
  {
   "cell_type": "markdown",
   "metadata": {},
   "source": [
    "## numpy.identity\n",
    "단위행렬(identity matrix)를 반환합니다.\n",
    "\n",
    "### 예제"
   ]
  },
  {
   "cell_type": "code",
   "execution_count": 9,
   "metadata": {},
   "outputs": [
    {
     "name": "stdout",
     "output_type": "stream",
     "text": [
      "[[ 1.  0.  0.]\n",
      " [ 0.  1.  0.]\n",
      " [ 0.  0.  1.]]\n"
     ]
    }
   ],
   "source": [
    "print(np.identity(3))"
   ]
  },
  {
   "cell_type": "markdown",
   "metadata": {},
   "source": [
    "## numpy.insert\n",
    "numpy.insert 함수는 주어진 축에 대해 주어진 인덱스 앞에 값을 삽입합니다.\n",
    "\n",
    "### 예제1"
   ]
  },
  {
   "cell_type": "code",
   "execution_count": 10,
   "metadata": {},
   "outputs": [
    {
     "name": "stdout",
     "output_type": "stream",
     "text": [
      "[1 2 3]\n",
      "[1 5 2 3]\n"
     ]
    }
   ],
   "source": [
    "a = np.array([1,2,3])\n",
    "b = np.insert(a, 1, 5)\n",
    "\n",
    "print(a)\n",
    "print(b)"
   ]
  },
  {
   "cell_type": "markdown",
   "metadata": {},
   "source": [
    "배열 a의 두번재 위치(index=1)에 값 5를 삽입합니다."
   ]
  },
  {
   "cell_type": "markdown",
   "metadata": {},
   "source": [
    "### 예제"
   ]
  },
  {
   "cell_type": "code",
   "execution_count": 11,
   "metadata": {},
   "outputs": [
    {
     "name": "stdout",
     "output_type": "stream",
     "text": [
      "[[1 1]\n",
      " [2 2]\n",
      " [3 3]]\n",
      "[1 5 1 2 2 3 3]\n"
     ]
    }
   ],
   "source": [
    "a = np.array([[1, 1], [2, 2], [3, 3]])\n",
    "b = np.insert(a, 1, 5)\n",
    "\n",
    "print(a)\n",
    "print(b)"
   ]
  },
  {
   "cell_type": "markdown",
   "metadata": {},
   "source": [
    "axis를 지정해주지 않아서 (axis=None), 우선 1차원 배열로 변환(flattem)한 후 값을 삽입합니다."
   ]
  },
  {
   "cell_type": "markdown",
   "metadata": {},
   "source": [
    "### 예제"
   ]
  },
  {
   "cell_type": "code",
   "execution_count": 14,
   "metadata": {},
   "outputs": [
    {
     "name": "stdout",
     "output_type": "stream",
     "text": [
      "[[1 1]\n",
      " [2 2]\n",
      " [3 3]] \n",
      "\n",
      "[[1 1]\n",
      " [5 5]\n",
      " [2 2]\n",
      " [3 3]] \n",
      "\n",
      "[[1 5 1]\n",
      " [2 5 2]\n",
      " [3 5 3]]\n"
     ]
    }
   ],
   "source": [
    "a = np.array([[1, 1], [2, 2], [3, 3]])\n",
    "b = np.insert(a, 1, 5, axis=0)\n",
    "c = np.insert(a, 1, 5, axis=1)\n",
    "\n",
    "print(a, '\\n')\n",
    "print(b, '\\n')\n",
    "print(c)"
   ]
  },
  {
   "cell_type": "markdown",
   "metadata": {},
   "source": [
    "배열 b는 axis=0으로 지정한 후 값을 삽입한 배열입니다. 첫번째 축을 따라 5가 삽입되었습니다.\n",
    "\n",
    "배열 c는 axis=1으로 지정한 후 값을 삽입한 배열입니다. 두번째 축을 따라 5가 삽입되었습니다.\n",
    "\n",
    "### 예제"
   ]
  },
  {
   "cell_type": "code",
   "execution_count": 15,
   "metadata": {},
   "outputs": [
    {
     "name": "stdout",
     "output_type": "stream",
     "text": [
      "[0 1 2 3 4 5]\n",
      "[ 0 10  1  2 10  3  4 10  5]\n"
     ]
    }
   ],
   "source": [
    "a = np.arange(6)\n",
    "b = np.insert(a, (1,3,5), 10)\n",
    "\n",
    "print(a)\n",
    "print(b)"
   ]
  },
  {
   "cell_type": "markdown",
   "metadata": {},
   "source": [
    "인덱스를 튜플의 형태((1,3,5))로 입력해주면, 배열 a의 1,3,5 위치의 앞에 값 10을 삽입합니다."
   ]
  },
  {
   "cell_type": "markdown",
   "metadata": {},
   "source": [
    "## numpy.loadtxt\n",
    "numpy.loadtxt는 텍스트 파일로부터 데이터를 불러옵니다.\n",
    "\n",
    "### 예제"
   ]
  },
  {
   "cell_type": "code",
   "execution_count": 16,
   "metadata": {},
   "outputs": [
    {
     "name": "stdout",
     "output_type": "stream",
     "text": [
      "[ 1.  2.  3.  4.]\n",
      "[[ 1.  2.  3.  4.]\n",
      " [ 5.  6.  7.  8.]]\n",
      "[  9.  10.  11.  12.]\n"
     ]
    }
   ],
   "source": [
    "x = np.array([1, 2, 3, 4])\n",
    "y = np.array([5, 6, 7, 8])\n",
    "z = np.array([9, 10, 11, 12])\n",
    "\n",
    "np.savetxt('array_x.csv', x, delimiter=', ')\n",
    "np.savetxt('array_xy.csv', (x, y))\n",
    "np.savetxt('array_z.csv', z, fmt='%1.4e')\n",
    "\n",
    "load_x = np.loadtxt('array_x.csv')\n",
    "load_xy = np.loadtxt('array_xy.csv')\n",
    "load_z = np.loadtxt('array_z.csv')\n",
    "print(load_x)\n",
    "print(load_xy)\n",
    "print(load_z)"
   ]
  },
  {
   "cell_type": "markdown",
   "metadata": {},
   "source": [
    "np.savetxt를 이용해서 저장한 데이터를 np.loadtxt로 불러옵니다.  \n",
    "저장했던 배열 x, (x,y), z가 출력됩니다."
   ]
  },
  {
   "cell_type": "markdown",
   "metadata": {},
   "source": [
    "## numpy.ndarray.flatten\n",
    "1차원으로 바꾼 배열을 반환합니다.\n",
    "\n",
    "### 예제"
   ]
  },
  {
   "cell_type": "code",
   "execution_count": 17,
   "metadata": {},
   "outputs": [
    {
     "name": "stdout",
     "output_type": "stream",
     "text": [
      "[[1 2]\n",
      " [3 4]]\n",
      "[1 2 3 4]\n",
      "[1 3 2 4]\n"
     ]
    }
   ],
   "source": [
    "a = np.array([[1, 2], [3, 4]])\n",
    "\n",
    "print(a)\n",
    "print(a.flatten())\n",
    "print(a.flatten('F'))"
   ]
  },
  {
   "cell_type": "markdown",
   "metadata": {},
   "source": [
    "## numpy.ndarray.shape\n",
    "배열의 형태를 반환합니다.\n",
    "\n",
    "### 예제"
   ]
  },
  {
   "cell_type": "code",
   "execution_count": 20,
   "metadata": {},
   "outputs": [
    {
     "name": "stdout",
     "output_type": "stream",
     "text": [
      "(4,)\n"
     ]
    }
   ],
   "source": [
    "a = np.array([1, 2, 3, 4])\n",
    "print(a.shape)"
   ]
  },
  {
   "cell_type": "markdown",
   "metadata": {},
   "source": [
    "### 예제"
   ]
  },
  {
   "cell_type": "code",
   "execution_count": 21,
   "metadata": {},
   "outputs": [
    {
     "name": "stdout",
     "output_type": "stream",
     "text": [
      "(2, 3, 4)\n",
      "[[ 0.  0.  0.  0.  0.  0.  0.  0.]\n",
      " [ 0.  0.  0.  0.  0.  0.  0.  0.]\n",
      " [ 0.  0.  0.  0.  0.  0.  0.  0.]]\n"
     ]
    }
   ],
   "source": [
    "a = np.zeros((2,3,4))\n",
    "print(a.shape)\n",
    "\n",
    "a.shape = (3, 8)\n",
    "print(a)"
   ]
  },
  {
   "cell_type": "markdown",
   "metadata": {},
   "source": [
    "## numpy.nonzero\n",
    "0이 아닌 성분의 인덱스를 반환합니다.\n",
    "\n",
    "### 예제"
   ]
  },
  {
   "cell_type": "code",
   "execution_count": 22,
   "metadata": {},
   "outputs": [
    {
     "name": "stdout",
     "output_type": "stream",
     "text": [
      "(array([0, 1, 3, 5], dtype=int64),)\n",
      "[1 2 3 4]\n"
     ]
    }
   ],
   "source": [
    "a = np.array([1, 2, 0, 3, 0, 4])\n",
    "\n",
    "print(np.nonzero(a))\n",
    "print(a[np.nonzero(a)])"
   ]
  },
  {
   "cell_type": "markdown",
   "metadata": {},
   "source": [
    "값을 출력하려면, a[np.nonzero(a)]와 같이 사용하면 됩니다.\n",
    "\n",
    "### 예제"
   ]
  },
  {
   "cell_type": "code",
   "execution_count": 23,
   "metadata": {},
   "outputs": [
    {
     "name": "stdout",
     "output_type": "stream",
     "text": [
      "(array([0, 1, 2, 2], dtype=int64), array([0, 1, 0, 1], dtype=int64))\n",
      "[[0 0]\n",
      " [1 1]\n",
      " [2 0]\n",
      " [2 1]]\n"
     ]
    }
   ],
   "source": [
    "a = np.array([[1, 0, 0], [0, 2, 0], [1, 1, 0]])\n",
    "\n",
    "print(np.nonzero(a))\n",
    "print(np.transpose(np.nonzero(a)))"
   ]
  },
  {
   "cell_type": "markdown",
   "metadata": {},
   "source": [
    "## numpy.ones_like\n",
    "numpy.ones_like 함수는 주어진 배열과 같은 형태와 타입을 갖는 1로 채워진 배열을 반환합니다.\n",
    "\n",
    "### 예제"
   ]
  },
  {
   "cell_type": "code",
   "execution_count": 24,
   "metadata": {},
   "outputs": [
    {
     "name": "stdout",
     "output_type": "stream",
     "text": [
      "[[0 1 2]\n",
      " [3 4 5]]\n",
      "[[1 1 1]\n",
      " [1 1 1]]\n"
     ]
    }
   ],
   "source": [
    "a = np.arange(6).reshape((2, 3))\n",
    "b = np.ones_like(a)\n",
    "\n",
    "print(a)\n",
    "print(b)"
   ]
  },
  {
   "cell_type": "markdown",
   "metadata": {},
   "source": [
    "## numpy.ones\n",
    "numpy.ones 함수는 주어진 형태와 타입을 갖는 1로 채워진 배열을 반환합니다.\n",
    "\n",
    "### 예제"
   ]
  },
  {
   "cell_type": "code",
   "execution_count": 25,
   "metadata": {},
   "outputs": [
    {
     "name": "stdout",
     "output_type": "stream",
     "text": [
      "[ 1.  1.  1.  1.]\n",
      "[1 1 1 1]\n",
      "[[ 1.  1.  1.]\n",
      " [ 1.  1.  1.]\n",
      " [ 1.  1.  1.]]\n"
     ]
    }
   ],
   "source": [
    "a = np.ones(4)\n",
    "b = np.ones(4, dtype=int)\n",
    "c = np.ones((3, 3))\n",
    "\n",
    "print(a)\n",
    "print(b)\n",
    "print(c)"
   ]
  },
  {
   "cell_type": "markdown",
   "metadata": {},
   "source": [
    "## numpy.random.rand\n",
    "[0,1) 사이의 범위에서 균일한 분포를 갖는 난수를 주어진 형태로 반환합니다.\n",
    "\n",
    "### 예제1"
   ]
  },
  {
   "cell_type": "code",
   "execution_count": 26,
   "metadata": {},
   "outputs": [
    {
     "name": "stdout",
     "output_type": "stream",
     "text": [
      "[[ 0.38941251  0.93522008  0.19285777]\n",
      " [ 0.01345155  0.63596178  0.24874555]]\n"
     ]
    }
   ],
   "source": [
    "print(np.random.rand(2, 3))"
   ]
  },
  {
   "cell_type": "markdown",
   "metadata": {},
   "source": [
    "(2, 3)의 형태를 갖는 난수의 배열이 만들어졌습니다.\n",
    "\n",
    "### 예제2"
   ]
  },
  {
   "cell_type": "code",
   "execution_count": 30,
   "metadata": {},
   "outputs": [
    {
     "data": {
      "image/png": "[encoded data removed]",
      "text/plain": [
       "<matplotlib.figure.Figure at 0x99ff43d978>"
      ]
     },
     "metadata": {},
     "output_type": "display_data"
    }
   ],
   "source": [
    "import matplotlib.pyplot as plt\n",
    "a = np.random.rand(1000)\n",
    "b = np.random.rand(10000)\n",
    "c = np.random.rand(100000)\n",
    "\n",
    "plt.hist(a, bins=100, density=True, alpha=0.5, histtype='step')\n",
    "plt.hist(b, bins=100, density=True, alpha=0.75, histtype='step')\n",
    "plt.hist(c, bins=100, density=True, alpha=1.0, histtype='step')\n",
    "plt.show()"
   ]
  },
  {
   "cell_type": "markdown",
   "metadata": {},
   "source": [
    "a,b,c는 각각 random_rand()를 사용해서 샘플링된 1000, 10000, 100000개의 난수의 배열입니다.  \n",
    "matplotlib을 이용해서 분포를 확인해보면 아래와 같습니다.  \n",
    "샘플의 개수가 많아질수록 더 균일한 분포를 이루는 것을 확인할 수 있습니다."
   ]
  },
  {
   "cell_type": "markdown",
   "metadata": {},
   "source": [
    "> 그림.numpy.random.rand()으로 생성한 난수의 분포."
   ]
  },
  {
   "cell_type": "markdown",
   "metadata": {},
   "source": [
    "## numpy.random.randint\n",
    "임의의 정수를 반환합니다.\n",
    "\n",
    "### 예제"
   ]
  },
  {
   "cell_type": "code",
   "execution_count": 31,
   "metadata": {},
   "outputs": [
    {
     "name": "stdout",
     "output_type": "stream",
     "text": [
      "1\n"
     ]
    }
   ],
   "source": [
    "print(np.random.randint(1, 3))"
   ]
  },
  {
   "cell_type": "markdown",
   "metadata": {},
   "source": [
    "1은 포함하고, 3은 포함하지 않아서 1 또는 2를 랜덤하게 출력합니다.\n",
    "\n",
    "### 예제"
   ]
  },
  {
   "cell_type": "code",
   "execution_count": 32,
   "metadata": {},
   "outputs": [
    {
     "name": "stdout",
     "output_type": "stream",
     "text": [
      "[1 2 2 1 2 1 2 1 2 1]\n"
     ]
    }
   ],
   "source": [
    "print(np.random.randint(1, 3, size=10))"
   ]
  },
  {
   "cell_type": "markdown",
   "metadata": {},
   "source": [
    "size 키워드를 이용해서 임의로 선택한 10개의 값을 배열로 반환할 수 있습니다."
   ]
  },
  {
   "cell_type": "markdown",
   "metadata": {},
   "source": [
    "## numpy.random.randn\n",
    "표준정규분포(standard normal distribution)에서 샘플링한 난수를 반환합니다.\n",
    "\n",
    "### 예제1"
   ]
  },
  {
   "cell_type": "code",
   "execution_count": 33,
   "metadata": {},
   "outputs": [
    {
     "name": "stdout",
     "output_type": "stream",
     "text": [
      "[ 1.75559705  0.39698257 -1.23711863  0.30239454  0.01017966]\n",
      "[[-1.30797425  0.48528433  0.14955729]\n",
      " [ 0.98173826  0.41567164  0.32965297]]\n"
     ]
    }
   ],
   "source": [
    "a = np.random.randn(5)\n",
    "b = np.random.randn(2, 3)\n",
    "\n",
    "print(a)\n",
    "print(b)"
   ]
  },
  {
   "cell_type": "markdown",
   "metadata": {},
   "source": [
    "a는 표준정규분포에서 샘플한 난수 5개의 배열입니다.\n",
    "\n",
    "b는 (2,3) 형태의 난수 배열입니다.\n",
    "\n",
    "### 예제2\n",
    "표준정규분포 N(1,0)이 아닌, 평균 μ, 표준편차 σ 를 갖는 정규분포 N(μ, σ2)의 난수를 샘플링하기 위해서는\n",
    "\n",
    "σ * np.random.randn(…) + μ 와 같은 형태로 사용합니다."
   ]
  },
  {
   "cell_type": "code",
   "execution_count": 35,
   "metadata": {},
   "outputs": [
    {
     "data": {
      "image/png": "[encoded data removed]",
      "text/plain": [
       "<matplotlib.figure.Figure at 0x99ff43de80>"
      ]
     },
     "metadata": {},
     "output_type": "display_data"
    }
   ],
   "source": [
    "a = np.random.randn(1000)\n",
    "b = 3.0 * np.random.randn(10000) + 1.5\n",
    "\n",
    "plt.hist(a, bins=100, density=True, alpha=0.7, histtype='stepfilled')\n",
    "plt.hist(b, bins=100, density=True, alpha=0.5, histtype='stepfilled')\n",
    "plt.show()"
   ]
  },
  {
   "cell_type": "markdown",
   "metadata": {},
   "source": [
    "a는 표준정규분포를 갖는 임의의 실수 10000개이고,  \n",
    "b는 표준편차 3.0, 평균 1.5를 갖는 임의의 실수 10000개입니다.\n",
    "\n",
    "matplotlib을 이용해서 분포를 확인해보면 아래와 같습니다.\n",
    "\n",
    "\n",
    "> 그림. numpy.random.randn()으로 생성한 난수의 분포."
   ]
  },
  {
   "cell_type": "markdown",
   "metadata": {},
   "source": [
    "## numpy.random.seed\n",
    "난수 생성의 시드를 설정합니다.\n",
    "\n",
    "### 예제"
   ]
  },
  {
   "cell_type": "code",
   "execution_count": 36,
   "metadata": {},
   "outputs": [],
   "source": [
    "np.random.seed(0)"
   ]
  },
  {
   "cell_type": "markdown",
   "metadata": {},
   "source": [
    "난수를 재사용할 수 있게 합니다."
   ]
  },
  {
   "cell_type": "markdown",
   "metadata": {},
   "source": [
    "## numpy.random.standard_normal\n",
    "표준정규분포(standard normal distribution)에서 샘플링한 난수를 반환합니다.\n",
    "\n",
    "randn()과 standard_normal()은 기능이 비슷하지만 standard_normal()은 튜플을 인자로 받는다는 점에서 차이가 있습니다.\n",
    "\n",
    "### 예제1"
   ]
  },
  {
   "cell_type": "code",
   "execution_count": 37,
   "metadata": {},
   "outputs": [
    {
     "name": "stdout",
     "output_type": "stream",
     "text": [
      "[ 1.76405235  0.40015721  0.97873798  2.2408932   1.86755799]\n",
      "[[-0.97727788  0.95008842 -0.15135721]\n",
      " [-0.10321885  0.4105985   0.14404357]]\n"
     ]
    }
   ],
   "source": [
    "a = np.random.standard_normal(5)\n",
    "b = np.random.standard_normal((2, 3))\n",
    "\n",
    "print(a)\n",
    "print(b)"
   ]
  },
  {
   "cell_type": "markdown",
   "metadata": {},
   "source": [
    "a는 표준정규분포에서 샘플링한 난수 5개의 배열입니다.  \n",
    "b는 (2,3) 형태의 난수 배열입니다. 튜플의 형태로 (2,3)의 형태를 입력해주었습니다.\n",
    "\n",
    "### 예제2\n",
    "표즌정규분포 N(1,0)이 아닌, 평균 μ, 표준편차 σ 를 갖는 정규분포 N(μ, σ2)의 난수를 샘플링하기 위해서는  \n",
    "σ * np.random.standard_normal(…) + μ 와 같은 형태로 사용합니다. "
   ]
  },
  {
   "cell_type": "code",
   "execution_count": 38,
   "metadata": {},
   "outputs": [
    {
     "data": {
      "image/png": "[encoded data removed]",
      "text/plain": [
       "<matplotlib.figure.Figure at 0x99f7973358>"
      ]
     },
     "metadata": {},
     "output_type": "display_data"
    }
   ],
   "source": [
    "a = np.random.standard_normal(10000)\n",
    "b = 5.0 * np.random.standard_normal(10000) - 2.5\n",
    "\n",
    "plt.hist(a, bins=100, density=True, alpha=0.7, histtype='stepfilled')\n",
    "plt.hist(b, bins=100, density=True, alpha=0.5, histtype='stepfilled')\n",
    "plt.show()"
   ]
  },
  {
   "cell_type": "markdown",
   "metadata": {},
   "source": [
    "a는 표준정규분포를 갖는 임의의 실수 10000개이고,  \n",
    "b는 표준편차 5.0, 평균 -2.5를 갖는 임의의 실수 10000개 입니다.\n",
    "\n",
    "matplotlib을 이용해서 분포를 확인해보면 아래와 같습니다.\n",
    "\n",
    "\n",
    "> 그림.numpy.random.standard_normal()로 생성한 난수의 분포"
   ]
  },
  {
   "cell_type": "markdown",
   "metadata": {},
   "source": [
    "## numpy.reshape\n",
    "배열의 형태를 변환합니다.\n",
    "\n",
    "### 예제"
   ]
  },
  {
   "cell_type": "code",
   "execution_count": 39,
   "metadata": {},
   "outputs": [
    {
     "name": "stdout",
     "output_type": "stream",
     "text": [
      "[ 0  1  2  3  4  5  6  7  8  9 10 11]\n",
      "[[ 0  1  2  3]\n",
      " [ 4  5  6  7]\n",
      " [ 8  9 10 11]]\n",
      "[[[ 0  1]\n",
      "  [ 2  3]\n",
      "  [ 4  5]]\n",
      "\n",
      " [[ 6  7]\n",
      "  [ 8  9]\n",
      "  [10 11]]]\n"
     ]
    }
   ],
   "source": [
    "a = np.arange(12)\n",
    "b = a.reshape(3, 4)\n",
    "c = a.reshape(2, 3, 2)\n",
    "\n",
    "print(a)\n",
    "print(b)\n",
    "print(c)"
   ]
  },
  {
   "cell_type": "markdown",
   "metadata": {},
   "source": [
    "## numpy.rint\n",
    "numpy.rint 함수는 배열의 성분을 가장 가까운 정수로 반올림합니다.\n",
    "\n",
    "### 예제"
   ]
  },
  {
   "cell_type": "code",
   "execution_count": 40,
   "metadata": {},
   "outputs": [
    {
     "name": "stdout",
     "output_type": "stream",
     "text": [
      "[-2. -2. -0.  2.  2.  2.]\n"
     ]
    }
   ],
   "source": [
    "a = np.array([-1.7, -1.5, -0.2, 1.5, 1.7, 2.0])\n",
    "a_rounded = np.rint(a)\n",
    "\n",
    "print(a_rounded)"
   ]
  },
  {
   "cell_type": "markdown",
   "metadata": {},
   "source": [
    "np.rint(a)는 배열 a를 반올림한 정수 배열을 반환합니다."
   ]
  },
  {
   "cell_type": "markdown",
   "metadata": {},
   "source": [
    "## numpy.round_\n",
    "numpy.round_ 함수는 배열의 성분을 주어진 소수점 자리로 반올림합니다.\n",
    "\n",
    "numpy.round 함수와 동일합니다.\n",
    "\n",
    "### 예제"
   ]
  },
  {
   "cell_type": "code",
   "execution_count": 41,
   "metadata": {},
   "outputs": [
    {
     "name": "stdout",
     "output_type": "stream",
     "text": [
      "[  0.    -0.11   4.15 -11.24]\n"
     ]
    }
   ],
   "source": [
    "a = np.array([0.001, -0.1123, 4.151, -11.24499])\n",
    "a_rounded = np.round(a, 2)\n",
    "\n",
    "print(a_rounded)"
   ]
  },
  {
   "cell_type": "markdown",
   "metadata": {},
   "source": [
    "np.round_(a,2)는 배열 a를 소숫점 세번째 자리에서 두번째 자리로 반올림합니다.  \n",
    "결과적으로 소숫점 두번째 자리까지 표시됩니다."
   ]
  },
  {
   "cell_type": "markdown",
   "metadata": {},
   "source": [
    "## numpy.savetxt\n",
    "numpy.savetxt는 배열을 텍스트 파일로 저장합니다.\n",
    "\n",
    "### 예제"
   ]
  },
  {
   "cell_type": "code",
   "execution_count": null,
   "metadata": {},
   "outputs": [],
   "source": [
    "x = np.array([1, 2, 3, 4])\n",
    "y = np.array([5, 6, 7, 8])\n",
    "z = np.array([9, 10, 11, 12])\n",
    "\n",
    "np.savetxt('array_x.csv', x, delimiter=', ')\n",
    "np.savetxt('array_xy.csv', (x, y))\n",
    "np.savetxt('array_z.csv', z, fmt='%1.4e')"
   ]
  },
  {
   "cell_type": "markdown",
   "metadata": {},
   "source": [
    "배열 x를 'array_x.csv' 파일로 저장합니다. deliniter는 구분 문자입니다.  \n",
    "두번째 파라미터에 (x, y) 튜플을 입력함으로써 여러 개의 배열을 저장할 수 있습니다.  \n",
    "fmt을 이용해서 포맷을 지정할 수 있습니다."
   ]
  },
  {
   "cell_type": "markdown",
   "metadata": {},
   "source": [
    "## numpy.set_printoptions\n",
    "부동 소수점, 배열 그리고 다른 NumPy 객체가 표시되는 방식을 설정합니다.\n",
    "\n",
    "### 예제"
   ]
  },
  {
   "cell_type": "code",
   "execution_count": 42,
   "metadata": {},
   "outputs": [
    {
     "name": "stdout",
     "output_type": "stream",
     "text": [
      "[  1.22315616   5.124311    15.346346  ]\n",
      "[  1.223   5.124  15.346]\n"
     ]
    }
   ],
   "source": [
    "a = np.array([1.22315616, 5.124311, 15.346346])\n",
    "print(a)\n",
    "\n",
    "np.set_printoptions(precision=3)\n",
    "print(a)"
   ]
  },
  {
   "cell_type": "markdown",
   "metadata": {},
   "source": [
    "## numpy.sqrt\n",
    "배열의 요소 단위로 음이 아닌 제곱근을 반환합니다.\n",
    "\n",
    "### 예제"
   ]
  },
  {
   "cell_type": "code",
   "execution_count": 43,
   "metadata": {},
   "outputs": [
    {
     "name": "stdout",
     "output_type": "stream",
     "text": [
      "1.41421356237\n",
      "[ 1.  2.  3.]\n"
     ]
    }
   ],
   "source": [
    "a = np.sqrt(2)\n",
    "print(a)\n",
    "\n",
    "b = np.sqrt([1, 4, 9])\n",
    "print(b)"
   ]
  },
  {
   "cell_type": "markdown",
   "metadata": {},
   "source": [
    "## numpy.square\n",
    "배열의 요소 단위로 제곱을 반환합니다.\n",
    "\n",
    "### 예제"
   ]
  },
  {
   "cell_type": "code",
   "execution_count": 45,
   "metadata": {},
   "outputs": [
    {
     "name": "stdout",
     "output_type": "stream",
     "text": [
      "2.25\n",
      "[1 4 9]\n",
      "[-1.+0.j  1.+0.j]\n"
     ]
    }
   ],
   "source": [
    "a = np.square(1.5)\n",
    "print(a)\n",
    "\n",
    "b = np.square([1, 2, 3])\n",
    "print(b)\n",
    "\n",
    "c = np.square([-1j, 1])\n",
    "print(c)"
   ]
  },
  {
   "cell_type": "markdown",
   "metadata": {},
   "source": [
    "## numpy.transpose\n",
    "전치행렬(transpose matrix, 행과 열을 바꾼 행렬)을 반환합니다.\n",
    "\n",
    "### 예제"
   ]
  },
  {
   "cell_type": "code",
   "execution_count": 46,
   "metadata": {},
   "outputs": [
    {
     "name": "stdout",
     "output_type": "stream",
     "text": [
      "[[1 2 3]\n",
      " [4 5 6]\n",
      " [7 8 9]]\n",
      "[[1 4 7]\n",
      " [2 5 8]\n",
      " [3 6 9]]\n"
     ]
    }
   ],
   "source": [
    "a = np.arange(1, 10).reshape(3, 3)\n",
    "b = np.transpose(a)\n",
    "\n",
    "print(a)\n",
    "print(b)"
   ]
  },
  {
   "cell_type": "markdown",
   "metadata": {},
   "source": [
    "np.transpose(a)는 행렬 a에서 행과 열이 바뀐 전치행렬 b를 반환합니다.\n",
    "\n",
    "### 예제"
   ]
  },
  {
   "cell_type": "code",
   "execution_count": 47,
   "metadata": {},
   "outputs": [
    {
     "name": "stdout",
     "output_type": "stream",
     "text": [
      "[[1 2 3]\n",
      " [4 5 6]]\n",
      "[[1 4]\n",
      " [2 5]\n",
      " [3 6]]\n"
     ]
    }
   ],
   "source": [
    "a = np.array(([1,2,3], [4,5,6]))\n",
    "\n",
    "print(a)\n",
    "print(np.transpose(a))"
   ]
  },
  {
   "cell_type": "markdown",
   "metadata": {},
   "source": [
    "행과 열의 개수가 다를 경우에도 transpose가 이루어집니다.\n",
    "\n",
    "배열의 shape이 (2, 3)에서 (3,2)로 바뀝니다."
   ]
  },
  {
   "cell_type": "markdown",
   "metadata": {},
   "source": [
    "## numpy.tril\n",
    "하삼각행렬(Lower triangular matrix)을 반환합니다.\n",
    "\n",
    "### 예제"
   ]
  },
  {
   "cell_type": "code",
   "execution_count": 48,
   "metadata": {},
   "outputs": [
    {
     "name": "stdout",
     "output_type": "stream",
     "text": [
      "[[1 0 0]\n",
      " [4 5 0]\n",
      " [7 8 9]]\n"
     ]
    }
   ],
   "source": [
    "a = np.array([[1, 2, 3], [4, 5, 6], [7, 8, 9]])\n",
    "print(np.tril(a))"
   ]
  },
  {
   "cell_type": "markdown",
   "metadata": {},
   "source": [
    "### 예제"
   ]
  },
  {
   "cell_type": "code",
   "execution_count": 50,
   "metadata": {},
   "outputs": [
    {
     "name": "stdout",
     "output_type": "stream",
     "text": [
      "[[ 1  2  0]\n",
      " [ 4  5  6]\n",
      " [ 7  8  9]\n",
      " [10 11 12]] \n",
      "\n",
      "[[ 0  0  0]\n",
      " [ 4  0  0]\n",
      " [ 7  8  0]\n",
      " [10 11 12]]\n"
     ]
    }
   ],
   "source": [
    "a = np.array([[1, 2, 3], [4, 5, 6], [7, 8, 9], [10, 11, 12]])\n",
    "print(np.tril(a, 1), '\\n')\n",
    "print(np.tril(a, -1))"
   ]
  },
  {
   "cell_type": "markdown",
   "metadata": {},
   "source": [
    "## numpy.triu\n",
    "상삼각행렬(Upper triangular matrix)을 반환합니다.\n",
    "\n",
    "### 예제"
   ]
  },
  {
   "cell_type": "code",
   "execution_count": 51,
   "metadata": {},
   "outputs": [
    {
     "name": "stdout",
     "output_type": "stream",
     "text": [
      "[[1 2 3]\n",
      " [0 5 6]\n",
      " [0 0 9]]\n"
     ]
    }
   ],
   "source": [
    "a = np.array([[1, 2, 3], [4, 5, 6], [7, 8, 9]])\n",
    "print(np.triu(a))"
   ]
  },
  {
   "cell_type": "markdown",
   "metadata": {},
   "source": [
    "### 예제"
   ]
  },
  {
   "cell_type": "code",
   "execution_count": 52,
   "metadata": {},
   "outputs": [
    {
     "name": "stdout",
     "output_type": "stream",
     "text": [
      "[[0 2 3]\n",
      " [0 0 6]\n",
      " [0 0 0]\n",
      " [0 0 0]] \n",
      "\n",
      "[[ 1  2  3]\n",
      " [ 4  5  6]\n",
      " [ 0  8  9]\n",
      " [ 0  0 12]]\n"
     ]
    }
   ],
   "source": [
    "a = np.array([[1, 2, 3], [4, 5, 6], [7, 8, 9], [10, 11, 12]])\n",
    "print(np.triu(a, 1), '\\n')\n",
    "print(np.triu(a, -1))"
   ]
  },
  {
   "cell_type": "markdown",
   "metadata": {},
   "source": [
    "## numpy.trunc\n",
    "numpy.trunc 함수는 입력을 truncate한 값 또는 배열을 반환합니다.\n",
    "\n",
    "스칼라 x의 truncate한 값은 0을 향해 가장 가까운 정수입니다.  \n",
    "즉, x의 소수 부분이 버려집니다.\n",
    "\n",
    "### 예제"
   ]
  },
  {
   "cell_type": "code",
   "execution_count": 53,
   "metadata": {},
   "outputs": [
    {
     "name": "stdout",
     "output_type": "stream",
     "text": [
      "3.0\n",
      "[-1. -1. -0.  0.  1.  1.  2.]\n"
     ]
    }
   ],
   "source": [
    "a = 3.14\n",
    "b = np.array([-1.7, -1.5, -0.2, 0.2, 1.5, 1.7, 2.0])\n",
    "\n",
    "print(np.trunc(a))\n",
    "print(np.trunc(b))"
   ]
  },
  {
   "cell_type": "markdown",
   "metadata": {},
   "source": [
    "입력 값 또는 배열의 요소에 대해 실수 부분을 버리고, 정수 부분으로 변환한 값 또는 배열을 반환합니다."
   ]
  },
  {
   "cell_type": "markdown",
   "metadata": {},
   "source": [
    "## numpy.where\n",
    "조건에 맞는 성분의 인덱스를 반환합니다.\n",
    "\n",
    "### 예제"
   ]
  },
  {
   "cell_type": "code",
   "execution_count": 54,
   "metadata": {},
   "outputs": [
    {
     "name": "stdout",
     "output_type": "stream",
     "text": [
      "(array([0, 2, 4], dtype=int64),)\n",
      "[2 1 0]\n"
     ]
    }
   ],
   "source": [
    "a = np.array([2, 5, 1, 3, 0])\n",
    "b = np.where(a < 3)\n",
    "\n",
    "print(b)\n",
    "print(a[b])"
   ]
  },
  {
   "cell_type": "markdown",
   "metadata": {},
   "source": [
    "성분을 출력하려면, a[b]의 형태로 사용하면 됩니다."
   ]
  },
  {
   "cell_type": "markdown",
   "metadata": {},
   "source": [
    "## numpy.zeros_like\n",
    "numpy.zeros_like 함수는 주어진 배열과 같은 형태와 타입을 갖는 0으로 채워진 배열을 반환합니다.\n",
    "\n",
    "### 예제"
   ]
  },
  {
   "cell_type": "code",
   "execution_count": 55,
   "metadata": {},
   "outputs": [
    {
     "name": "stdout",
     "output_type": "stream",
     "text": [
      "[[0 1 2]\n",
      " [3 4 5]]\n",
      "[[0 0 0]\n",
      " [0 0 0]]\n"
     ]
    }
   ],
   "source": [
    "a = np.arange(6).reshape((2, 3))\n",
    "b = np.zeros_like(a)\n",
    "\n",
    "print(a)\n",
    "print(b)"
   ]
  },
  {
   "cell_type": "markdown",
   "metadata": {},
   "source": [
    "## numpy.zeros\n",
    "numpy.zeros 함수는 주어진 형태와 타입을 갖는 0으로 채워진 배열을 반환합니다.\n",
    "\n",
    "### 예제"
   ]
  },
  {
   "cell_type": "code",
   "execution_count": 56,
   "metadata": {},
   "outputs": [
    {
     "name": "stdout",
     "output_type": "stream",
     "text": [
      "[ 0.  0.  0.  0.]\n",
      "[0 0 0 0]\n",
      "[[ 0.  0.  0.]\n",
      " [ 0.  0.  0.]\n",
      " [ 0.  0.  0.]]\n"
     ]
    }
   ],
   "source": [
    "a = np.zeros(4)\n",
    "b = np.zeros(4, dtype=int)\n",
    "c = np.zeros((3, 3))\n",
    "\n",
    "print(a)\n",
    "print(b)\n",
    "print(c)"
   ]
  },
  {
   "cell_type": "markdown",
   "metadata": {},
   "source": [
    "# NumPy 상수\n",
    "NumPy에서 사용할 수 있는 상수(constant)들에 대해 소개합니다.\n",
    "\n",
    "## numpy.inf\n",
    ":(양의) 무한대의 IEEE 754 부동소수점 표현\n",
    "\n",
    "(Inf, Infinity, PINF, infty는 inf의 다른 이름입니다. inf 사용을 권장합니다.)\n",
    "\n",
    "### 예제"
   ]
  },
  {
   "cell_type": "code",
   "execution_count": 57,
   "metadata": {},
   "outputs": [
    {
     "name": "stdout",
     "output_type": "stream",
     "text": [
      "inf\n",
      "inf\n",
      "inf\n",
      "inf\n",
      "inf\n"
     ]
    }
   ],
   "source": [
    "import numpy as np\n",
    "\n",
    "print(np.inf)\n",
    "print(np.Inf)\n",
    "print(np.Infinity)\n",
    "print(np.PINF)\n",
    "print(np.infty)"
   ]
  },
  {
   "cell_type": "markdown",
   "metadata": {},
   "source": [
    "## numpy.nan\n",
    ":'Not a Number (Nan)'의 IEEE 754 부동소수점 표현\n",
    "\n",
    "(NaN, NAN은 nan과 같습니다. nan 사용을 권장합니다.)\n",
    "\n",
    "### 예제"
   ]
  },
  {
   "cell_type": "code",
   "execution_count": 58,
   "metadata": {},
   "outputs": [
    {
     "name": "stdout",
     "output_type": "stream",
     "text": [
      "nan\n",
      "nan\n",
      "nan\n"
     ]
    }
   ],
   "source": [
    "print(np.nan)\n",
    "print(np.NaN)\n",
    "print(np.NAN)"
   ]
  },
  {
   "cell_type": "markdown",
   "metadata": {},
   "source": [
    "## numpy.NINF\n",
    ":음의 무한대의 IEEE 754 부동소수점 표현\n",
    "\n",
    "### 예제"
   ]
  },
  {
   "cell_type": "code",
   "execution_count": 59,
   "metadata": {},
   "outputs": [
    {
     "name": "stdout",
     "output_type": "stream",
     "text": [
      "-inf\n"
     ]
    }
   ],
   "source": [
    "print(np.NINF)"
   ]
  },
  {
   "cell_type": "markdown",
   "metadata": {},
   "source": [
    "## numpy.NZERO\n",
    ":음의 (negative zero)의 IEEE 754 부동소수점 표현\n",
    "\n",
    "### 예제"
   ]
  },
  {
   "cell_type": "code",
   "execution_count": 60,
   "metadata": {},
   "outputs": [
    {
     "name": "stdout",
     "output_type": "stream",
     "text": [
      "-0.0\n"
     ]
    }
   ],
   "source": [
    "print(np.NZERO)"
   ]
  },
  {
   "cell_type": "markdown",
   "metadata": {},
   "source": [
    "## numpy.PZERO\n",
    ":양의 (positive zero)의 IEEE 754 부동소수점 표현\n",
    "\n",
    "### 예제"
   ]
  },
  {
   "cell_type": "code",
   "execution_count": 61,
   "metadata": {},
   "outputs": [
    {
     "name": "stdout",
     "output_type": "stream",
     "text": [
      "0.0\n"
     ]
    }
   ],
   "source": [
    "print(np.PZERO)"
   ]
  },
  {
   "cell_type": "markdown",
   "metadata": {},
   "source": [
    "## numpy.e\n",
    ":오일러 상수(Euler's constant), 자연로그의 밑, 네이피어 상수(Napier's constant).\n",
    "\n",
    "e = 2.71828182845904523536028747135266249775724709369995…\n",
    "\n",
    "## numpy.euler_gamma\n",
    ":오일러-마스키로니 상수(Euler-Mascheroni constant).\n",
    "\n",
    "γ = 0.5772156649015328606065120900824024310421…\n",
    "\n",
    "## numpy.newaxis\n",
    "None의 간편한 에일리어스(alias). 배열을 인덱싱하는데 유용합니다.\n",
    "\n",
    "### 예제1"
   ]
  },
  {
   "cell_type": "code",
   "execution_count": 62,
   "metadata": {},
   "outputs": [
    {
     "name": "stdout",
     "output_type": "stream",
     "text": [
      "True\n"
     ]
    }
   ],
   "source": [
    "print(np.newaxis is None)"
   ]
  },
  {
   "cell_type": "markdown",
   "metadata": {},
   "source": [
    "### 예제2"
   ]
  },
  {
   "cell_type": "code",
   "execution_count": 64,
   "metadata": {},
   "outputs": [
    {
     "name": "stdout",
     "output_type": "stream",
     "text": [
      "[0 1 2]\n",
      "[[0]\n",
      " [1]\n",
      " [2]]\n",
      "[[[0]]\n",
      "\n",
      " [[1]]\n",
      "\n",
      " [[2]]]\n",
      "[[0 0 0]\n",
      " [0 1 2]\n",
      " [0 2 4]]\n"
     ]
    }
   ],
   "source": [
    "x = np.arange(3)\n",
    "x_na = x[:, np.newaxis]\n",
    "x_na_na = x[:, np.newaxis, np.newaxis]\n",
    "\n",
    "print(x)\n",
    "print(x_na)\n",
    "print(x_na_na)\n",
    "print(x_na * x)"
   ]
  },
  {
   "cell_type": "markdown",
   "metadata": {},
   "source": [
    "## numpy.pi\n",
    "pi = 3.141592653897932384626433..."
   ]
  }
 ],
 "metadata": {
  "kernelspec": {
   "display_name": "Python 3",
   "language": "python",
   "name": "python3"
  },
  "language_info": {
   "codemirror_mode": {
    "name": "ipython",
    "version": 3
   },
   "file_extension": ".py",
   "mimetype": "text/x-python",
   "name": "python",
   "nbconvert_exporter": "python",
   "pygments_lexer": "ipython3",
   "version": "3.6.3"
  }
 },
 "nbformat": 4,
 "nbformat_minor": 2
}
